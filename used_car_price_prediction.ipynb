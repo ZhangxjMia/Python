{
  "nbformat": 4,
  "nbformat_minor": 0,
  "metadata": {
    "colab": {
      "name": "used_car_price_prediction.ipynb",
      "provenance": [],
      "toc_visible": true,
      "authorship_tag": "ABX9TyNazsMfw9jLEA0RDlxGVBkF",
      "include_colab_link": true
    },
    "kernelspec": {
      "name": "python3",
      "display_name": "Python 3"
    }
  },
  "cells": [
    {
      "cell_type": "markdown",
      "metadata": {
        "id": "view-in-github",
        "colab_type": "text"
      },
      "source": [
        "<a href=\"https://colab.research.google.com/github/ZhangxjMia/Python/blob/main/used_car_price_prediction.ipynb\" target=\"_parent\"><img src=\"https://colab.research.google.com/assets/colab-badge.svg\" alt=\"Open In Colab\"/></a>"
      ]
    },
    {
      "cell_type": "markdown",
      "metadata": {
        "id": "prA5zhXnjyvW"
      },
      "source": [
        "# Used Car Price Prediction"
      ]
    },
    {
      "cell_type": "markdown",
      "metadata": {
        "id": "5RW2yqzskrTi"
      },
      "source": [
        "## Project Description\n",
        "> As per reports Cars growth of new cars in the upcoming 5 years is an average of 3.5% while for used cars 5% and the ratio of used cars to new cars is increasing continuously. So the used cars market is increasing day by day and a consumer wants the best resale price of his car.\n",
        "\n",
        "Currently, if anyone wants to sell their car either they have to take their car to a respective company workshop or have to make an appointment for the company to get an estimate of the price. This process involves a lot of time and resources. Our Objective is to make a model for third-party companies that will make an estimate of the Price of the customer’s car directly from their online portal. This will save customers time and help the company to reduce its cost and also streamline the process of selling used cars."
      ]
    },
    {
      "cell_type": "markdown",
      "metadata": {
        "id": "yJUOkEMRqEjA"
      },
      "source": [
        "## Data Dictionary\n",
        "\n",
        "|Attribute|Description|\n",
        "|---------|-----------|\n",
        "|Name|The brand and model of the car|\n",
        "|Location|The location in which the car is being sold or is available for purchase|\n",
        "|Year|The year or edition of the model|\n",
        "|Kilometers_Driven|The total kilometers driven in the car by the previous owner(s) in KM|\n",
        "|Fuel_Type|The type of fuel used by the car|\n",
        "|Transmission|The type of transmission used by the car|\n",
        "|Owner_Type|Whether the ownership is Firsthand, Second hand or other|\n",
        "|Mileage|The standard mileage offered by the car company in kmpl or km/kg|\n",
        "|Engine|The displacement volume of the engine in cc|\n",
        "|Power|The maximum power of the engine in bhp|\n",
        "|Seats|The number of seats in the car|\n",
        "|New_Price|Price of new model|\n",
        "|Price|The price of the used car in INR Lakhs|\n",
        "\n"
      ]
    },
    {
      "cell_type": "markdown",
      "metadata": {
        "id": "PbHoALH5kzVC"
      },
      "source": [
        "## Project Task\n",
        "1. Clean and preprocess the data\n",
        "2. Do Exploratory Data Analysis (EDA) to get some insight into data\n",
        "3. Do Feature Engineering\n",
        "4. Build a model i.e Regression Analysis\n",
        "5. Evaluate the model\n",
        "6. Go back to any of the previous steps unless the result is sufficient."
      ]
    },
    {
      "cell_type": "markdown",
      "metadata": {
        "id": "_1aK-EbEk96K"
      },
      "source": [
        "# Project\n"
      ]
    },
    {
      "cell_type": "markdown",
      "metadata": {
        "id": "QEsn0RXgJTZ_"
      },
      "source": [
        "## Clean and Preprocess the data"
      ]
    },
    {
      "cell_type": "code",
      "metadata": {
        "id": "j-gBn1s4k0bC"
      },
      "source": [
        "#Import libraries\n",
        "import pandas as pd\n",
        "import numpy as np\n",
        "from scipy import stats\n",
        "import seaborn as sns\n",
        "import matplotlib.pyplot as plt\n",
        "import warnings\n",
        "warnings.filterwarnings('ignore')\n",
        "%matplotlib inline\n",
        "from IPython.core.interactiveshell import InteractiveShell\n",
        "InteractiveShell.ast_node_interactivity = \"all\""
      ],
      "execution_count": 1,
      "outputs": []
    },
    {
      "cell_type": "code",
      "metadata": {
        "colab": {
          "resources": {
            "http://localhost:8080/nbextensions/google.colab/files.js": {
              "data": "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",
              "ok": true,
              "headers": [
                [
                  "content-type",
                  "application/javascript"
                ]
              ],
              "status": 200,
              "status_text": ""
            }
          },
          "base_uri": "https://localhost:8080/",
          "height": 106
        },
        "id": "6UWTqNIFomHL",
        "outputId": "a2121665-a9b1-4511-b67e-0ea2100fa13b"
      },
      "source": [
        "#Load dataset\n",
        "from google.colab import files\n",
        "uploaded = files.upload()"
      ],
      "execution_count": 2,
      "outputs": [
        {
          "output_type": "display_data",
          "data": {
            "text/html": [
              "\n",
              "     <input type=\"file\" id=\"files-e667be60-f0ad-4657-b822-87d2f9a8820c\" name=\"files[]\" multiple disabled\n",
              "        style=\"border:none\" />\n",
              "     <output id=\"result-e667be60-f0ad-4657-b822-87d2f9a8820c\">\n",
              "      Upload widget is only available when the cell has been executed in the\n",
              "      current browser session. Please rerun this cell to enable.\n",
              "      </output>\n",
              "      <script src=\"/nbextensions/google.colab/files.js\"></script> "
            ],
            "text/plain": [
              "<IPython.core.display.HTML object>"
            ]
          },
          "metadata": {
            "tags": []
          }
        },
        {
          "output_type": "stream",
          "text": [
            "Saving test.csv to test (2).csv\n",
            "Saving train.csv to train (2).csv\n"
          ],
          "name": "stdout"
        }
      ]
    },
    {
      "cell_type": "code",
      "metadata": {
        "id": "XS8IR8M1ot6Q"
      },
      "source": [
        "train = pd.read_csv(\"train.csv\")\n",
        "test = pd.read_csv(\"test.csv\")"
      ],
      "execution_count": 3,
      "outputs": []
    },
    {
      "cell_type": "code",
      "metadata": {
        "colab": {
          "base_uri": "https://localhost:8080/",
          "height": 445
        },
        "id": "eAttpRcgp2l2",
        "outputId": "46e8ca9e-dd93-484d-b06b-c5cc9e689b0f"
      },
      "source": [
        "#Baisc info of the dataset\n",
        "train.sample(5)"
      ],
      "execution_count": 4,
      "outputs": [
        {
          "output_type": "execute_result",
          "data": {
            "text/html": [
              "<div>\n",
              "<style scoped>\n",
              "    .dataframe tbody tr th:only-of-type {\n",
              "        vertical-align: middle;\n",
              "    }\n",
              "\n",
              "    .dataframe tbody tr th {\n",
              "        vertical-align: top;\n",
              "    }\n",
              "\n",
              "    .dataframe thead th {\n",
              "        text-align: right;\n",
              "    }\n",
              "</style>\n",
              "<table border=\"1\" class=\"dataframe\">\n",
              "  <thead>\n",
              "    <tr style=\"text-align: right;\">\n",
              "      <th></th>\n",
              "      <th>Name</th>\n",
              "      <th>Location</th>\n",
              "      <th>Year</th>\n",
              "      <th>Kilometers_Driven</th>\n",
              "      <th>Fuel_Type</th>\n",
              "      <th>Transmission</th>\n",
              "      <th>Owner_Type</th>\n",
              "      <th>Mileage</th>\n",
              "      <th>Engine</th>\n",
              "      <th>Power</th>\n",
              "      <th>Seats</th>\n",
              "      <th>New_Price</th>\n",
              "      <th>Price</th>\n",
              "    </tr>\n",
              "  </thead>\n",
              "  <tbody>\n",
              "    <tr>\n",
              "      <th>3807</th>\n",
              "      <td>Skoda Octavia Ambiente 1.9 TDI</td>\n",
              "      <td>Delhi</td>\n",
              "      <td>2008</td>\n",
              "      <td>80000</td>\n",
              "      <td>Diesel</td>\n",
              "      <td>Manual</td>\n",
              "      <td>First</td>\n",
              "      <td>18.7 kmpl</td>\n",
              "      <td>1896 CC</td>\n",
              "      <td>66 bhp</td>\n",
              "      <td>5.0</td>\n",
              "      <td>NaN</td>\n",
              "      <td>2.20</td>\n",
              "    </tr>\n",
              "    <tr>\n",
              "      <th>983</th>\n",
              "      <td>Hyundai Accent GLE</td>\n",
              "      <td>Ahmedabad</td>\n",
              "      <td>2010</td>\n",
              "      <td>58000</td>\n",
              "      <td>Petrol</td>\n",
              "      <td>Manual</td>\n",
              "      <td>Second</td>\n",
              "      <td>13.2 kmpl</td>\n",
              "      <td>1495 CC</td>\n",
              "      <td>94 bhp</td>\n",
              "      <td>5.0</td>\n",
              "      <td>NaN</td>\n",
              "      <td>2.50</td>\n",
              "    </tr>\n",
              "    <tr>\n",
              "      <th>2538</th>\n",
              "      <td>Maruti Wagon R LXI</td>\n",
              "      <td>Jaipur</td>\n",
              "      <td>2006</td>\n",
              "      <td>145000</td>\n",
              "      <td>Petrol</td>\n",
              "      <td>Manual</td>\n",
              "      <td>First</td>\n",
              "      <td>18.9 kmpl</td>\n",
              "      <td>998 CC</td>\n",
              "      <td>67.1 bhp</td>\n",
              "      <td>5.0</td>\n",
              "      <td>NaN</td>\n",
              "      <td>1.15</td>\n",
              "    </tr>\n",
              "    <tr>\n",
              "      <th>4547</th>\n",
              "      <td>Honda Amaze S i-Dtech</td>\n",
              "      <td>Jaipur</td>\n",
              "      <td>2013</td>\n",
              "      <td>63000</td>\n",
              "      <td>Diesel</td>\n",
              "      <td>Manual</td>\n",
              "      <td>Second</td>\n",
              "      <td>25.8 kmpl</td>\n",
              "      <td>1498 CC</td>\n",
              "      <td>98.6 bhp</td>\n",
              "      <td>5.0</td>\n",
              "      <td>NaN</td>\n",
              "      <td>4.25</td>\n",
              "    </tr>\n",
              "    <tr>\n",
              "      <th>895</th>\n",
              "      <td>Mercedes-Benz E-Class E250 CDI Avantgrade</td>\n",
              "      <td>Kochi</td>\n",
              "      <td>2015</td>\n",
              "      <td>42076</td>\n",
              "      <td>Diesel</td>\n",
              "      <td>Automatic</td>\n",
              "      <td>First</td>\n",
              "      <td>13.0 kmpl</td>\n",
              "      <td>2143 CC</td>\n",
              "      <td>201.1 bhp</td>\n",
              "      <td>5.0</td>\n",
              "      <td>NaN</td>\n",
              "      <td>21.80</td>\n",
              "    </tr>\n",
              "  </tbody>\n",
              "</table>\n",
              "</div>"
            ],
            "text/plain": [
              "                                           Name   Location  ...  New_Price  Price\n",
              "3807             Skoda Octavia Ambiente 1.9 TDI      Delhi  ...        NaN   2.20\n",
              "983                          Hyundai Accent GLE  Ahmedabad  ...        NaN   2.50\n",
              "2538                         Maruti Wagon R LXI     Jaipur  ...        NaN   1.15\n",
              "4547                      Honda Amaze S i-Dtech     Jaipur  ...        NaN   4.25\n",
              "895   Mercedes-Benz E-Class E250 CDI Avantgrade      Kochi  ...        NaN  21.80\n",
              "\n",
              "[5 rows x 13 columns]"
            ]
          },
          "metadata": {
            "tags": []
          },
          "execution_count": 4
        }
      ]
    },
    {
      "cell_type": "code",
      "metadata": {
        "colab": {
          "base_uri": "https://localhost:8080/"
        },
        "id": "rW_UF9gH9G7L",
        "outputId": "5e966035-40bc-4dd8-e504-1681654d21b0"
      },
      "source": [
        "#row numbers and column numbers\n",
        "train.shape"
      ],
      "execution_count": 5,
      "outputs": [
        {
          "output_type": "execute_result",
          "data": {
            "text/plain": [
              "(6019, 13)"
            ]
          },
          "metadata": {
            "tags": []
          },
          "execution_count": 5
        }
      ]
    },
    {
      "cell_type": "code",
      "metadata": {
        "colab": {
          "base_uri": "https://localhost:8080/"
        },
        "id": "-wgsrTh59k3n",
        "outputId": "6394a2bf-265f-450a-d0d6-536b302dca9e"
      },
      "source": [
        "#data type and number of non-null\n",
        "train.info()"
      ],
      "execution_count": 6,
      "outputs": [
        {
          "output_type": "stream",
          "text": [
            "<class 'pandas.core.frame.DataFrame'>\n",
            "RangeIndex: 6019 entries, 0 to 6018\n",
            "Data columns (total 13 columns):\n",
            " #   Column             Non-Null Count  Dtype  \n",
            "---  ------             --------------  -----  \n",
            " 0   Name               6019 non-null   object \n",
            " 1   Location           6019 non-null   object \n",
            " 2   Year               6019 non-null   int64  \n",
            " 3   Kilometers_Driven  6019 non-null   int64  \n",
            " 4   Fuel_Type          6019 non-null   object \n",
            " 5   Transmission       6019 non-null   object \n",
            " 6   Owner_Type         6019 non-null   object \n",
            " 7   Mileage            6017 non-null   object \n",
            " 8   Engine             5983 non-null   object \n",
            " 9   Power              5983 non-null   object \n",
            " 10  Seats              5977 non-null   float64\n",
            " 11  New_Price          824 non-null    object \n",
            " 12  Price              6019 non-null   float64\n",
            "dtypes: float64(2), int64(2), object(9)\n",
            "memory usage: 611.4+ KB\n"
          ],
          "name": "stdout"
        }
      ]
    },
    {
      "cell_type": "code",
      "metadata": {
        "colab": {
          "base_uri": "https://localhost:8080/"
        },
        "id": "3Teziz2H_oq6",
        "outputId": "a2b5f20c-933e-4faa-b3e9-d40e611d917b"
      },
      "source": [
        "#remove partial string in \"mileage\", \"engine\", \"power\", \"new_price\"\n",
        "train['Mileage'] = train['Mileage'].str.replace(' kmpl', '')\n",
        "train['Mileage'] = train['Mileage'].str.replace(' km/kg', '')\n",
        "train['Mileage'] = pd.to_numeric(train['Mileage'])\n",
        "print(train['Mileage'])"
      ],
      "execution_count": 7,
      "outputs": [
        {
          "output_type": "stream",
          "text": [
            "0       26.60\n",
            "1       19.67\n",
            "2       18.20\n",
            "3       20.77\n",
            "4       15.20\n",
            "        ...  \n",
            "6014    28.40\n",
            "6015    24.40\n",
            "6016    14.00\n",
            "6017    18.90\n",
            "6018    25.44\n",
            "Name: Mileage, Length: 6019, dtype: float64\n"
          ],
          "name": "stdout"
        }
      ]
    },
    {
      "cell_type": "code",
      "metadata": {
        "id": "HtZZMnYkH_jr"
      },
      "source": [
        "test['Mileage'] = test['Mileage'].str.replace(' kmpl', '')\n",
        "test['Mileage'] = test['Mileage'].str.replace(' km/kg', '')\n",
        "test['Mileage'] = pd.to_numeric(test['Mileage'])"
      ],
      "execution_count": 8,
      "outputs": []
    },
    {
      "cell_type": "code",
      "metadata": {
        "colab": {
          "base_uri": "https://localhost:8080/"
        },
        "id": "_bS2Jk8dAT_S",
        "outputId": "dadbbb4d-5cb9-4203-cad9-ca244727e7d9"
      },
      "source": [
        "train['Engine'] = train['Engine'].str.replace(' CC','')\n",
        "train['Engine'] = pd.to_numeric(train['Engine'])\n",
        "print(train['Engine'])"
      ],
      "execution_count": 9,
      "outputs": [
        {
          "output_type": "stream",
          "text": [
            "0        998.0\n",
            "1       1582.0\n",
            "2       1199.0\n",
            "3       1248.0\n",
            "4       1968.0\n",
            "         ...  \n",
            "6014    1248.0\n",
            "6015    1120.0\n",
            "6016    2498.0\n",
            "6017     998.0\n",
            "6018     936.0\n",
            "Name: Engine, Length: 6019, dtype: float64\n"
          ],
          "name": "stdout"
        }
      ]
    },
    {
      "cell_type": "code",
      "metadata": {
        "id": "A1U3nHrJIIWT"
      },
      "source": [
        "test['Engine'] = test['Engine'].str.replace(' CC','')\n",
        "test['Engine'] = pd.to_numeric(test['Engine'])"
      ],
      "execution_count": 10,
      "outputs": []
    },
    {
      "cell_type": "code",
      "metadata": {
        "colab": {
          "base_uri": "https://localhost:8080/"
        },
        "id": "lNN35lxxAx-3",
        "outputId": "74608e8b-040a-4555-889a-bdf79821ab04"
      },
      "source": [
        "train['Power'] = train['Power'].str.replace(' bhp','')\n",
        "train['Power'] = pd.to_numeric(train['Power'], errors='coerce') # if no errors = 'coerce', it returns error due to null\n",
        "print(train['Power'])"
      ],
      "execution_count": 11,
      "outputs": [
        {
          "output_type": "stream",
          "text": [
            "0        58.16\n",
            "1       126.20\n",
            "2        88.70\n",
            "3        88.76\n",
            "4       140.80\n",
            "         ...  \n",
            "6014     74.00\n",
            "6015     71.00\n",
            "6016    112.00\n",
            "6017     67.10\n",
            "6018     57.60\n",
            "Name: Power, Length: 6019, dtype: float64\n"
          ],
          "name": "stdout"
        }
      ]
    },
    {
      "cell_type": "code",
      "metadata": {
        "id": "ip9otVp-IRlg"
      },
      "source": [
        "test['Power'] = test['Power'].str.replace(' bhp','')\n",
        "test['Power'] = pd.to_numeric(test['Power'], errors='coerce')"
      ],
      "execution_count": 12,
      "outputs": []
    },
    {
      "cell_type": "code",
      "metadata": {
        "colab": {
          "base_uri": "https://localhost:8080/"
        },
        "id": "DepJ7IGHC7Oy",
        "outputId": "bef15380-9a4b-4e1e-86da-0dac860c0cd4"
      },
      "source": [
        "train['New_Price'] = train['New_Price'].str.replace(' Lakh','')\n",
        "train['New_Price'] = pd.to_numeric(train['New_Price'], errors='coerce')\n",
        "print(train['New_Price'])"
      ],
      "execution_count": 13,
      "outputs": [
        {
          "output_type": "stream",
          "text": [
            "0        NaN\n",
            "1        NaN\n",
            "2       8.61\n",
            "3        NaN\n",
            "4        NaN\n",
            "        ... \n",
            "6014    7.88\n",
            "6015     NaN\n",
            "6016     NaN\n",
            "6017     NaN\n",
            "6018     NaN\n",
            "Name: New_Price, Length: 6019, dtype: float64\n"
          ],
          "name": "stdout"
        }
      ]
    },
    {
      "cell_type": "code",
      "metadata": {
        "id": "swUYbnQ1IY8O"
      },
      "source": [
        "test['New_Price'] = test['New_Price'].str.replace(' Lakh','')\n",
        "test['New_Price'] = pd.to_numeric(test['New_Price'], errors='coerce')"
      ],
      "execution_count": 14,
      "outputs": []
    },
    {
      "cell_type": "code",
      "metadata": {
        "colab": {
          "base_uri": "https://localhost:8080/",
          "height": 297
        },
        "id": "h4GXZofD9nSO",
        "outputId": "117a8ecb-98dc-4db1-90f5-fc8862b91e57"
      },
      "source": [
        "#Description statistics for numerical data\n",
        "train.describe().T"
      ],
      "execution_count": 15,
      "outputs": [
        {
          "output_type": "execute_result",
          "data": {
            "text/html": [
              "<div>\n",
              "<style scoped>\n",
              "    .dataframe tbody tr th:only-of-type {\n",
              "        vertical-align: middle;\n",
              "    }\n",
              "\n",
              "    .dataframe tbody tr th {\n",
              "        vertical-align: top;\n",
              "    }\n",
              "\n",
              "    .dataframe thead th {\n",
              "        text-align: right;\n",
              "    }\n",
              "</style>\n",
              "<table border=\"1\" class=\"dataframe\">\n",
              "  <thead>\n",
              "    <tr style=\"text-align: right;\">\n",
              "      <th></th>\n",
              "      <th>count</th>\n",
              "      <th>mean</th>\n",
              "      <th>std</th>\n",
              "      <th>min</th>\n",
              "      <th>25%</th>\n",
              "      <th>50%</th>\n",
              "      <th>75%</th>\n",
              "      <th>max</th>\n",
              "    </tr>\n",
              "  </thead>\n",
              "  <tbody>\n",
              "    <tr>\n",
              "      <th>Year</th>\n",
              "      <td>6019.0</td>\n",
              "      <td>2013.358199</td>\n",
              "      <td>3.269742</td>\n",
              "      <td>1998.00</td>\n",
              "      <td>2011.00</td>\n",
              "      <td>2014.00</td>\n",
              "      <td>2016.000</td>\n",
              "      <td>2019.00</td>\n",
              "    </tr>\n",
              "    <tr>\n",
              "      <th>Kilometers_Driven</th>\n",
              "      <td>6019.0</td>\n",
              "      <td>58738.380296</td>\n",
              "      <td>91268.843206</td>\n",
              "      <td>171.00</td>\n",
              "      <td>34000.00</td>\n",
              "      <td>53000.00</td>\n",
              "      <td>73000.000</td>\n",
              "      <td>6500000.00</td>\n",
              "    </tr>\n",
              "    <tr>\n",
              "      <th>Mileage</th>\n",
              "      <td>6017.0</td>\n",
              "      <td>18.134961</td>\n",
              "      <td>4.582289</td>\n",
              "      <td>0.00</td>\n",
              "      <td>15.17</td>\n",
              "      <td>18.15</td>\n",
              "      <td>21.100</td>\n",
              "      <td>33.54</td>\n",
              "    </tr>\n",
              "    <tr>\n",
              "      <th>Engine</th>\n",
              "      <td>5983.0</td>\n",
              "      <td>1621.276450</td>\n",
              "      <td>601.355233</td>\n",
              "      <td>72.00</td>\n",
              "      <td>1198.00</td>\n",
              "      <td>1493.00</td>\n",
              "      <td>1984.000</td>\n",
              "      <td>5998.00</td>\n",
              "    </tr>\n",
              "    <tr>\n",
              "      <th>Power</th>\n",
              "      <td>5876.0</td>\n",
              "      <td>113.253050</td>\n",
              "      <td>53.874957</td>\n",
              "      <td>34.20</td>\n",
              "      <td>75.00</td>\n",
              "      <td>97.70</td>\n",
              "      <td>138.100</td>\n",
              "      <td>560.00</td>\n",
              "    </tr>\n",
              "    <tr>\n",
              "      <th>Seats</th>\n",
              "      <td>5977.0</td>\n",
              "      <td>5.278735</td>\n",
              "      <td>0.808840</td>\n",
              "      <td>0.00</td>\n",
              "      <td>5.00</td>\n",
              "      <td>5.00</td>\n",
              "      <td>5.000</td>\n",
              "      <td>10.00</td>\n",
              "    </tr>\n",
              "    <tr>\n",
              "      <th>New_Price</th>\n",
              "      <td>807.0</td>\n",
              "      <td>20.720372</td>\n",
              "      <td>20.219173</td>\n",
              "      <td>3.91</td>\n",
              "      <td>7.95</td>\n",
              "      <td>11.56</td>\n",
              "      <td>24.445</td>\n",
              "      <td>99.92</td>\n",
              "    </tr>\n",
              "    <tr>\n",
              "      <th>Price</th>\n",
              "      <td>6019.0</td>\n",
              "      <td>9.479468</td>\n",
              "      <td>11.187917</td>\n",
              "      <td>0.44</td>\n",
              "      <td>3.50</td>\n",
              "      <td>5.64</td>\n",
              "      <td>9.950</td>\n",
              "      <td>160.00</td>\n",
              "    </tr>\n",
              "  </tbody>\n",
              "</table>\n",
              "</div>"
            ],
            "text/plain": [
              "                    count          mean  ...        75%         max\n",
              "Year               6019.0   2013.358199  ...   2016.000     2019.00\n",
              "Kilometers_Driven  6019.0  58738.380296  ...  73000.000  6500000.00\n",
              "Mileage            6017.0     18.134961  ...     21.100       33.54\n",
              "Engine             5983.0   1621.276450  ...   1984.000     5998.00\n",
              "Power              5876.0    113.253050  ...    138.100      560.00\n",
              "Seats              5977.0      5.278735  ...      5.000       10.00\n",
              "New_Price           807.0     20.720372  ...     24.445       99.92\n",
              "Price              6019.0      9.479468  ...      9.950      160.00\n",
              "\n",
              "[8 rows x 8 columns]"
            ]
          },
          "metadata": {
            "tags": []
          },
          "execution_count": 15
        }
      ]
    },
    {
      "cell_type": "code",
      "metadata": {
        "colab": {
          "base_uri": "https://localhost:8080/"
        },
        "id": "tYZPALqU-CCw",
        "outputId": "5d3f6bbd-59ea-41b3-82ca-57ea40b85c33"
      },
      "source": [
        "#statistics for categorical data\n",
        "for col in train.columns:\n",
        "  if train[col].dtypes == 'O':\n",
        "    print(train[col].value_counts())"
      ],
      "execution_count": 16,
      "outputs": [
        {
          "output_type": "stream",
          "text": [
            "Mahindra XUV500 W8 2WD                      49\n",
            "Maruti Swift VDI                            45\n",
            "Honda City 1.5 S MT                         34\n",
            "Maruti Swift Dzire VDI                      34\n",
            "Maruti Swift VDI BSIV                       31\n",
            "                                            ..\n",
            "Maruti Celerio ZXI AMT                       1\n",
            "Tata Indica V2 DLX                           1\n",
            "Land Rover Range Rover 3.6 TDV8 Vogue SE     1\n",
            "Ford Figo Aspire 1.5 TDCi Titanium           1\n",
            "Tata Indigo LX BSII                          1\n",
            "Name: Name, Length: 1876, dtype: int64\n",
            "Mumbai        790\n",
            "Hyderabad     742\n",
            "Kochi         651\n",
            "Coimbatore    636\n",
            "Pune          622\n",
            "Delhi         554\n",
            "Kolkata       535\n",
            "Chennai       494\n",
            "Jaipur        413\n",
            "Bangalore     358\n",
            "Ahmedabad     224\n",
            "Name: Location, dtype: int64\n",
            "Diesel      3205\n",
            "Petrol      2746\n",
            "CNG           56\n",
            "LPG           10\n",
            "Electric       2\n",
            "Name: Fuel_Type, dtype: int64\n",
            "Manual       4299\n",
            "Automatic    1720\n",
            "Name: Transmission, dtype: int64\n",
            "First             4929\n",
            "Second             968\n",
            "Third              113\n",
            "Fourth & Above       9\n",
            "Name: Owner_Type, dtype: int64\n"
          ],
          "name": "stdout"
        }
      ]
    },
    {
      "cell_type": "code",
      "metadata": {
        "colab": {
          "base_uri": "https://localhost:8080/"
        },
        "id": "-dnvYr0f-k2r",
        "outputId": "97781b9c-90c9-46d1-c4bc-0c92e838e48d"
      },
      "source": [
        "#Check missing values for each column\n",
        "round(train.isnull().sum()/len(train),2)"
      ],
      "execution_count": 17,
      "outputs": [
        {
          "output_type": "execute_result",
          "data": {
            "text/plain": [
              "Name                 0.00\n",
              "Location             0.00\n",
              "Year                 0.00\n",
              "Kilometers_Driven    0.00\n",
              "Fuel_Type            0.00\n",
              "Transmission         0.00\n",
              "Owner_Type           0.00\n",
              "Mileage              0.00\n",
              "Engine               0.01\n",
              "Power                0.02\n",
              "Seats                0.01\n",
              "New_Price            0.87\n",
              "Price                0.00\n",
              "dtype: float64"
            ]
          },
          "metadata": {
            "tags": []
          },
          "execution_count": 17
        }
      ]
    },
    {
      "cell_type": "markdown",
      "metadata": {
        "id": "gGpSWXPUHCKd"
      },
      "source": [
        "As we can see that the NULL percentage of New_Price is 87% which is super large, so I decide to remove this column."
      ]
    },
    {
      "cell_type": "code",
      "metadata": {
        "id": "ZhnL2ycuF-tv"
      },
      "source": [
        "#Remove New_Price\n",
        "train.drop(columns=['New_Price'], inplace=True)\n",
        "test.drop(columns=['New_Price'], inplace=True)"
      ],
      "execution_count": 18,
      "outputs": []
    },
    {
      "cell_type": "code",
      "metadata": {
        "id": "VeUWy_C8Y6t7"
      },
      "source": [
        "#Remove Name\n",
        "train.drop(columns=['Name'], inplace=True)\n",
        "test.drop(columns=['Name'], inplace=True)"
      ],
      "execution_count": 19,
      "outputs": []
    },
    {
      "cell_type": "code",
      "metadata": {
        "id": "jVdRnjeSMd1m"
      },
      "source": [
        "#Since there are discrete number, I replace NAs with median\n",
        "train.fillna(train.median(), inplace = True)\n",
        "test.fillna(test.median(), inplace = True)"
      ],
      "execution_count": 20,
      "outputs": []
    },
    {
      "cell_type": "code",
      "metadata": {
        "colab": {
          "base_uri": "https://localhost:8080/"
        },
        "id": "TZUWCvgmI-nK",
        "outputId": "3aa3d5f7-7097-4f5e-d0b7-6dce7bbddc4b"
      },
      "source": [
        "#Check duplicates\n",
        "train.duplicated().sum()"
      ],
      "execution_count": 21,
      "outputs": [
        {
          "output_type": "execute_result",
          "data": {
            "text/plain": [
              "2"
            ]
          },
          "metadata": {
            "tags": []
          },
          "execution_count": 21
        }
      ]
    },
    {
      "cell_type": "code",
      "metadata": {
        "colab": {
          "base_uri": "https://localhost:8080/"
        },
        "id": "HYsItWr8dwl-",
        "outputId": "04f8ef28-179d-40f9-e959-1f86b95a36e2"
      },
      "source": [
        "#Remove duplicates\n",
        "train.drop_duplicates(inplace=True)\n",
        "train.duplicated().sum()"
      ],
      "execution_count": 22,
      "outputs": [
        {
          "output_type": "execute_result",
          "data": {
            "text/plain": [
              "0"
            ]
          },
          "metadata": {
            "tags": []
          },
          "execution_count": 22
        }
      ]
    },
    {
      "cell_type": "markdown",
      "metadata": {
        "id": "l74POa0hJJta"
      },
      "source": [
        "## EDA"
      ]
    },
    {
      "cell_type": "code",
      "metadata": {
        "colab": {
          "base_uri": "https://localhost:8080/",
          "height": 1000
        },
        "id": "83TbaFz6KJ-G",
        "outputId": "b693d9cf-c0b8-4463-fd84-6d304fd02273"
      },
      "source": [
        "cate_col = ['Location', 'Year', 'Fuel_Type', 'Transmission', 'Owner_Type']\n",
        "for col in cate_col:\n",
        "  mean_price = train.groupby(col).mean()['Price']\n",
        "  mean_price = pd.DataFrame(mean_price)\n",
        "  mean_price = mean_price.sort_values(by = ['Price'])\n",
        "  print(mean_price)\n",
        "  sns.set(style = 'darkgrid')\n",
        "  sns.barplot(mean_price.index, mean_price['Price'], alpha = 1)\n",
        "  plt.title('Avg. Price for each '+ col, fontsize=18)\n",
        "  plt.ylabel('Avg. of Price', fontsize=18)\n",
        "  plt.xlabel('Location', fontsize=18)\n",
        "  plt.xticks(fontsize=14, rotation = 75)\n",
        "  fig = plt.gcf()\n",
        "  fig.set_size_inches(10, 8)\n",
        "  #plt.grid()\n",
        "  plt.show()"
      ],
      "execution_count": 23,
      "outputs": [
        {
          "output_type": "stream",
          "text": [
            "                Price\n",
            "Location             \n",
            "Kolkata      5.659644\n",
            "Jaipur       5.809225\n",
            "Pune         6.726254\n",
            "Chennai      7.753623\n",
            "Ahmedabad    8.457321\n",
            "Mumbai       9.429329\n",
            "Delhi        9.707726\n",
            "Hyderabad    9.787382\n",
            "Kochi       11.179186\n",
            "Bangalore   13.328631\n",
            "Coimbatore  15.078223\n"
          ],
          "name": "stdout"
        },
        {
          "output_type": "execute_result",
          "data": {
            "text/plain": [
              "<matplotlib.axes._subplots.AxesSubplot at 0x7fd528831f98>"
            ]
          },
          "metadata": {
            "tags": []
          },
          "execution_count": 23
        },
        {
          "output_type": "execute_result",
          "data": {
            "text/plain": [
              "Text(0.5, 1.0, 'Avg. Price for each Location')"
            ]
          },
          "metadata": {
            "tags": []
          },
          "execution_count": 23
        },
        {
          "output_type": "execute_result",
          "data": {
            "text/plain": [
              "Text(0, 0.5, 'Avg. of Price')"
            ]
          },
          "metadata": {
            "tags": []
          },
          "execution_count": 23
        },
        {
          "output_type": "execute_result",
          "data": {
            "text/plain": [
              "Text(0.5, 0, 'Location')"
            ]
          },
          "metadata": {
            "tags": []
          },
          "execution_count": 23
        },
        {
          "output_type": "execute_result",
          "data": {
            "text/plain": [
              "(array([ 0,  1,  2,  3,  4,  5,  6,  7,  8,  9, 10]),\n",
              " <a list of 11 Text major ticklabel objects>)"
            ]
          },
          "metadata": {
            "tags": []
          },
          "execution_count": 23
        },
        {
          "output_type": "display_data",
          "data": {
            "image/png": "[encoded data removed]",
            "text/plain": [
              "<Figure size 720x576 with 1 Axes>"
            ]
          },
          "metadata": {
            "tags": []
          }
        },
        {
          "output_type": "stream",
          "text": [
            "          Price\n",
            "Year           \n",
            "1999   0.835000\n",
            "2000   1.175000\n",
            "2002   1.294000\n",
            "1998   1.432500\n",
            "2001   1.543750\n",
            "2004   1.941290\n",
            "2005   2.026842\n",
            "2003   2.440000\n",
            "2007   3.215726\n",
            "2006   3.355897\n",
            "2008   3.917759\n",
            "2009   5.177727\n",
            "2010   5.515497\n",
            "2011   6.831931\n",
            "2012   7.324724\n",
            "2013   8.699353\n",
            "2014   9.639360\n",
            "2015  11.215538\n",
            "2016  11.726149\n",
            "2017  13.764940\n",
            "2018  15.726141\n",
            "2019  19.464118\n"
          ],
          "name": "stdout"
        },
        {
          "output_type": "execute_result",
          "data": {
            "text/plain": [
              "<matplotlib.axes._subplots.AxesSubplot at 0x7fd528936128>"
            ]
          },
          "metadata": {
            "tags": []
          },
          "execution_count": 23
        },
        {
          "output_type": "execute_result",
          "data": {
            "text/plain": [
              "Text(0.5, 1.0, 'Avg. Price for each Year')"
            ]
          },
          "metadata": {
            "tags": []
          },
          "execution_count": 23
        },
        {
          "output_type": "execute_result",
          "data": {
            "text/plain": [
              "Text(0, 0.5, 'Avg. of Price')"
            ]
          },
          "metadata": {
            "tags": []
          },
          "execution_count": 23
        },
        {
          "output_type": "execute_result",
          "data": {
            "text/plain": [
              "Text(0.5, 0, 'Location')"
            ]
          },
          "metadata": {
            "tags": []
          },
          "execution_count": 23
        },
        {
          "output_type": "execute_result",
          "data": {
            "text/plain": [
              "(array([ 0,  1,  2,  3,  4,  5,  6,  7,  8,  9, 10, 11, 12, 13, 14, 15, 16,\n",
              "        17, 18, 19, 20, 21]), <a list of 22 Text major ticklabel objects>)"
            ]
          },
          "metadata": {
            "tags": []
          },
          "execution_count": 23
        },
        {
          "output_type": "display_data",
          "data": {
            "image/png": "[encoded data removed]",
            "text/plain": [
              "<Figure size 720x576 with 1 Axes>"
            ]
          },
          "metadata": {
            "tags": []
          }
        },
        {
          "output_type": "stream",
          "text": [
            "               Price\n",
            "Fuel_Type           \n",
            "LPG         2.487000\n",
            "CNG         3.516786\n",
            "Petrol      5.702539\n",
            "Diesel     12.842584\n",
            "Electric   12.875000\n"
          ],
          "name": "stdout"
        },
        {
          "output_type": "execute_result",
          "data": {
            "text/plain": [
              "<matplotlib.axes._subplots.AxesSubplot at 0x7fd52788a6d8>"
            ]
          },
          "metadata": {
            "tags": []
          },
          "execution_count": 23
        },
        {
          "output_type": "execute_result",
          "data": {
            "text/plain": [
              "Text(0.5, 1.0, 'Avg. Price for each Fuel_Type')"
            ]
          },
          "metadata": {
            "tags": []
          },
          "execution_count": 23
        },
        {
          "output_type": "execute_result",
          "data": {
            "text/plain": [
              "Text(0, 0.5, 'Avg. of Price')"
            ]
          },
          "metadata": {
            "tags": []
          },
          "execution_count": 23
        },
        {
          "output_type": "execute_result",
          "data": {
            "text/plain": [
              "Text(0.5, 0, 'Location')"
            ]
          },
          "metadata": {
            "tags": []
          },
          "execution_count": 23
        },
        {
          "output_type": "execute_result",
          "data": {
            "text/plain": [
              "(array([0, 1, 2, 3, 4]), <a list of 5 Text major ticklabel objects>)"
            ]
          },
          "metadata": {
            "tags": []
          },
          "execution_count": 23
        },
        {
          "output_type": "display_data",
          "data": {
            "image/png": "[encoded data removed]",
            "text/plain": [
              "<Figure size 720x576 with 1 Axes>"
            ]
          },
          "metadata": {
            "tags": []
          }
        },
        {
          "output_type": "stream",
          "text": [
            "                  Price\n",
            "Transmission           \n",
            "Manual         5.333265\n",
            "Automatic     19.843971\n"
          ],
          "name": "stdout"
        },
        {
          "output_type": "execute_result",
          "data": {
            "text/plain": [
              "<matplotlib.axes._subplots.AxesSubplot at 0x7fd527856630>"
            ]
          },
          "metadata": {
            "tags": []
          },
          "execution_count": 23
        },
        {
          "output_type": "execute_result",
          "data": {
            "text/plain": [
              "Text(0.5, 1.0, 'Avg. Price for each Transmission')"
            ]
          },
          "metadata": {
            "tags": []
          },
          "execution_count": 23
        },
        {
          "output_type": "execute_result",
          "data": {
            "text/plain": [
              "Text(0, 0.5, 'Avg. of Price')"
            ]
          },
          "metadata": {
            "tags": []
          },
          "execution_count": 23
        },
        {
          "output_type": "execute_result",
          "data": {
            "text/plain": [
              "Text(0.5, 0, 'Location')"
            ]
          },
          "metadata": {
            "tags": []
          },
          "execution_count": 23
        },
        {
          "output_type": "execute_result",
          "data": {
            "text/plain": [
              "(array([0, 1]), <a list of 2 Text major ticklabel objects>)"
            ]
          },
          "metadata": {
            "tags": []
          },
          "execution_count": 23
        },
        {
          "output_type": "display_data",
          "data": {
            "image/png": "[encoded data removed]",
            "text/plain": [
              "<Figure size 720x576 with 1 Axes>"
            ]
          },
          "metadata": {
            "tags": []
          }
        },
        {
          "output_type": "stream",
          "text": [
            "                   Price\n",
            "Owner_Type              \n",
            "Fourth & Above  3.280000\n",
            "Third           5.007257\n",
            "Second          7.599886\n",
            "First           9.964814\n"
          ],
          "name": "stdout"
        },
        {
          "output_type": "execute_result",
          "data": {
            "text/plain": [
              "<matplotlib.axes._subplots.AxesSubplot at 0x7fd5278f47b8>"
            ]
          },
          "metadata": {
            "tags": []
          },
          "execution_count": 23
        },
        {
          "output_type": "execute_result",
          "data": {
            "text/plain": [
              "Text(0.5, 1.0, 'Avg. Price for each Owner_Type')"
            ]
          },
          "metadata": {
            "tags": []
          },
          "execution_count": 23
        },
        {
          "output_type": "execute_result",
          "data": {
            "text/plain": [
              "Text(0, 0.5, 'Avg. of Price')"
            ]
          },
          "metadata": {
            "tags": []
          },
          "execution_count": 23
        },
        {
          "output_type": "execute_result",
          "data": {
            "text/plain": [
              "Text(0.5, 0, 'Location')"
            ]
          },
          "metadata": {
            "tags": []
          },
          "execution_count": 23
        },
        {
          "output_type": "execute_result",
          "data": {
            "text/plain": [
              "(array([0, 1, 2, 3]), <a list of 4 Text major ticklabel objects>)"
            ]
          },
          "metadata": {
            "tags": []
          },
          "execution_count": 23
        },
        {
          "output_type": "display_data",
          "data": {
            "image/png": "[encoded data removed]",
            "text/plain": [
              "<Figure size 720x576 with 1 Axes>"
            ]
          },
          "metadata": {
            "tags": []
          }
        }
      ]
    },
    {
      "cell_type": "code",
      "metadata": {
        "colab": {
          "base_uri": "https://localhost:8080/",
          "height": 266
        },
        "id": "TXJ2ddbNLC2b",
        "outputId": "1831b0be-5715-458d-dd5c-7e920ebd535c"
      },
      "source": [
        "round(train.corr(),2)"
      ],
      "execution_count": 24,
      "outputs": [
        {
          "output_type": "execute_result",
          "data": {
            "text/html": [
              "<div>\n",
              "<style scoped>\n",
              "    .dataframe tbody tr th:only-of-type {\n",
              "        vertical-align: middle;\n",
              "    }\n",
              "\n",
              "    .dataframe tbody tr th {\n",
              "        vertical-align: top;\n",
              "    }\n",
              "\n",
              "    .dataframe thead th {\n",
              "        text-align: right;\n",
              "    }\n",
              "</style>\n",
              "<table border=\"1\" class=\"dataframe\">\n",
              "  <thead>\n",
              "    <tr style=\"text-align: right;\">\n",
              "      <th></th>\n",
              "      <th>Year</th>\n",
              "      <th>Kilometers_Driven</th>\n",
              "      <th>Mileage</th>\n",
              "      <th>Engine</th>\n",
              "      <th>Power</th>\n",
              "      <th>Seats</th>\n",
              "      <th>Price</th>\n",
              "    </tr>\n",
              "  </thead>\n",
              "  <tbody>\n",
              "    <tr>\n",
              "      <th>Year</th>\n",
              "      <td>1.00</td>\n",
              "      <td>-0.17</td>\n",
              "      <td>0.32</td>\n",
              "      <td>-0.05</td>\n",
              "      <td>0.02</td>\n",
              "      <td>0.02</td>\n",
              "      <td>0.31</td>\n",
              "    </tr>\n",
              "    <tr>\n",
              "      <th>Kilometers_Driven</th>\n",
              "      <td>-0.17</td>\n",
              "      <td>1.00</td>\n",
              "      <td>-0.07</td>\n",
              "      <td>0.09</td>\n",
              "      <td>0.03</td>\n",
              "      <td>0.08</td>\n",
              "      <td>-0.01</td>\n",
              "    </tr>\n",
              "    <tr>\n",
              "      <th>Mileage</th>\n",
              "      <td>0.32</td>\n",
              "      <td>-0.07</td>\n",
              "      <td>1.00</td>\n",
              "      <td>-0.59</td>\n",
              "      <td>-0.50</td>\n",
              "      <td>-0.30</td>\n",
              "      <td>-0.31</td>\n",
              "    </tr>\n",
              "    <tr>\n",
              "      <th>Engine</th>\n",
              "      <td>-0.05</td>\n",
              "      <td>0.09</td>\n",
              "      <td>-0.59</td>\n",
              "      <td>1.00</td>\n",
              "      <td>0.86</td>\n",
              "      <td>0.39</td>\n",
              "      <td>0.66</td>\n",
              "    </tr>\n",
              "    <tr>\n",
              "      <th>Power</th>\n",
              "      <td>0.02</td>\n",
              "      <td>0.03</td>\n",
              "      <td>-0.50</td>\n",
              "      <td>0.86</td>\n",
              "      <td>1.00</td>\n",
              "      <td>0.10</td>\n",
              "      <td>0.77</td>\n",
              "    </tr>\n",
              "    <tr>\n",
              "      <th>Seats</th>\n",
              "      <td>0.02</td>\n",
              "      <td>0.08</td>\n",
              "      <td>-0.30</td>\n",
              "      <td>0.39</td>\n",
              "      <td>0.10</td>\n",
              "      <td>1.00</td>\n",
              "      <td>0.05</td>\n",
              "    </tr>\n",
              "    <tr>\n",
              "      <th>Price</th>\n",
              "      <td>0.31</td>\n",
              "      <td>-0.01</td>\n",
              "      <td>-0.31</td>\n",
              "      <td>0.66</td>\n",
              "      <td>0.77</td>\n",
              "      <td>0.05</td>\n",
              "      <td>1.00</td>\n",
              "    </tr>\n",
              "  </tbody>\n",
              "</table>\n",
              "</div>"
            ],
            "text/plain": [
              "                   Year  Kilometers_Driven  Mileage  ...  Power  Seats  Price\n",
              "Year               1.00              -0.17     0.32  ...   0.02   0.02   0.31\n",
              "Kilometers_Driven -0.17               1.00    -0.07  ...   0.03   0.08  -0.01\n",
              "Mileage            0.32              -0.07     1.00  ...  -0.50  -0.30  -0.31\n",
              "Engine            -0.05               0.09    -0.59  ...   0.86   0.39   0.66\n",
              "Power              0.02               0.03    -0.50  ...   1.00   0.10   0.77\n",
              "Seats              0.02               0.08    -0.30  ...   0.10   1.00   0.05\n",
              "Price              0.31              -0.01    -0.31  ...   0.77   0.05   1.00\n",
              "\n",
              "[7 rows x 7 columns]"
            ]
          },
          "metadata": {
            "tags": []
          },
          "execution_count": 24
        }
      ]
    },
    {
      "cell_type": "code",
      "metadata": {
        "colab": {
          "base_uri": "https://localhost:8080/",
          "height": 858
        },
        "id": "YlLzapNkL-yA",
        "outputId": "1b57ed10-4b4b-45d9-eda5-0a850e24cdfa"
      },
      "source": [
        "correlation_matrix = train.corr()\n",
        "sns.heatmap(correlation_matrix, annot=True)\n",
        "plt.yticks(fontsize=12)\n",
        "plt.xticks(fontsize=12)\n",
        "fig = plt.gcf()\n",
        "fig.set_size_inches(14, 12)\n",
        "plt.show()"
      ],
      "execution_count": 25,
      "outputs": [
        {
          "output_type": "execute_result",
          "data": {
            "text/plain": [
              "<matplotlib.axes._subplots.AxesSubplot at 0x7fd528950898>"
            ]
          },
          "metadata": {
            "tags": []
          },
          "execution_count": 25
        },
        {
          "output_type": "execute_result",
          "data": {
            "text/plain": [
              "(array([0.5, 1.5, 2.5, 3.5, 4.5, 5.5, 6.5]),\n",
              " <a list of 7 Text major ticklabel objects>)"
            ]
          },
          "metadata": {
            "tags": []
          },
          "execution_count": 25
        },
        {
          "output_type": "execute_result",
          "data": {
            "text/plain": [
              "(array([0.5, 1.5, 2.5, 3.5, 4.5, 5.5, 6.5]),\n",
              " <a list of 7 Text major ticklabel objects>)"
            ]
          },
          "metadata": {
            "tags": []
          },
          "execution_count": 25
        },
        {
          "output_type": "display_data",
          "data": {
            "image/png": "[encoded data removed]",
            "text/plain": [
              "<Figure size 1008x864 with 2 Axes>"
            ]
          },
          "metadata": {
            "tags": []
          }
        }
      ]
    },
    {
      "cell_type": "code",
      "metadata": {
        "colab": {
          "base_uri": "https://localhost:8080/",
          "height": 302
        },
        "id": "KnbcUDBiO2Hu",
        "outputId": "15cca1cc-0918-489a-906c-318f41382a5d"
      },
      "source": [
        "# Largest R^2: 0.77 (price and power)\n",
        "sns.regplot(x='Power',y='Price',data=train)"
      ],
      "execution_count": 26,
      "outputs": [
        {
          "output_type": "execute_result",
          "data": {
            "text/plain": [
              "<matplotlib.axes._subplots.AxesSubplot at 0x7fd527884358>"
            ]
          },
          "metadata": {
            "tags": []
          },
          "execution_count": 26
        },
        {
          "output_type": "display_data",
          "data": {
            "image/png": "[encoded data removed]",
            "text/plain": [
              "<Figure size 432x288 with 1 Axes>"
            ]
          },
          "metadata": {
            "tags": []
          }
        }
      ]
    },
    {
      "cell_type": "markdown",
      "metadata": {
        "id": "Je_WGj4rS-ok"
      },
      "source": [
        "## Feature Engineering"
      ]
    },
    {
      "cell_type": "code",
      "metadata": {
        "id": "MPAWzrtmbWxD"
      },
      "source": [
        "# Get all features\n",
        "features = [column_name for column_name in train.columns if column_name != 'Price']\n",
        "\n",
        "# Get all categorical features\n",
        "categorical = [column_name for column_name in features if train[column_name].dtype == 'object']\n",
        "\n",
        "# Get all numeric columns\n",
        "numeric = [column_name for column_name in features if column_name not in categorical]"
      ],
      "execution_count": 27,
      "outputs": []
    },
    {
      "cell_type": "code",
      "metadata": {
        "colab": {
          "base_uri": "https://localhost:8080/"
        },
        "id": "PuDcZ1nVaoG1",
        "outputId": "cad0e8f1-9199-4030-c5e1-49020a8e0fb3"
      },
      "source": [
        "# Print them out and make sure\n",
        "print(features)\n",
        "print(categorical)\n",
        "print(numeric)"
      ],
      "execution_count": 28,
      "outputs": [
        {
          "output_type": "stream",
          "text": [
            "['Location', 'Year', 'Kilometers_Driven', 'Fuel_Type', 'Transmission', 'Owner_Type', 'Mileage', 'Engine', 'Power', 'Seats']\n",
            "['Location', 'Fuel_Type', 'Transmission', 'Owner_Type']\n",
            "['Year', 'Kilometers_Driven', 'Mileage', 'Engine', 'Power', 'Seats']\n"
          ],
          "name": "stdout"
        }
      ]
    },
    {
      "cell_type": "markdown",
      "metadata": {
        "id": "a4_VhbYGpMv4"
      },
      "source": [
        "## Modeling"
      ]
    },
    {
      "cell_type": "code",
      "metadata": {
        "id": "Ir8pbDsXpbwZ"
      },
      "source": [
        "from sklearn.model_selection import GridSearchCV"
      ],
      "execution_count": 29,
      "outputs": []
    },
    {
      "cell_type": "code",
      "metadata": {
        "id": "Nm_QNR4dbOI0"
      },
      "source": [
        "# Split data between X and label\n",
        "X = train[features]\n",
        "y = train['Price']"
      ],
      "execution_count": 30,
      "outputs": []
    },
    {
      "cell_type": "code",
      "metadata": {
        "id": "YjQ0nekHhDTF"
      },
      "source": [
        "# Import train_test_split\n",
        "from sklearn.model_selection import train_test_split\n",
        "\n",
        "# Split data into train test splits\n",
        "X_train, X_test, y_train, y_test = train_test_split(X, y, test_size = 0.25, random_state = 88)"
      ],
      "execution_count": 31,
      "outputs": []
    },
    {
      "cell_type": "code",
      "metadata": {
        "id": "CzFTxrlChK_H"
      },
      "source": [
        "# Import StandardScaler\n",
        "from sklearn.preprocessing import StandardScaler\n",
        "\n",
        "# Intialize a scaler\n",
        "scaler = StandardScaler()\n",
        "\n",
        "# Transform numerical training and test data\n",
        "train_numeric_transform = scaler.fit_transform(X_train[numeric])\n",
        "test_numeric_transform = scaler.transform(X_test[numeric])\n",
        "\n",
        "# Replace columns in training and testing data accordingly\n",
        "X_train[numeric] = train_numeric_transform\n",
        "X_test[numeric] = test_numeric_transform\n",
        "\n",
        "# One hot encode cat variables\n",
        "X_train = pd.get_dummies(X_train, columns= categorical, drop_first = True)\n",
        "X_test = pd.get_dummies(X_test, columns= categorical, drop_first = True)\n"
      ],
      "execution_count": 32,
      "outputs": []
    },
    {
      "cell_type": "code",
      "metadata": {
        "id": "x6ogrw3uoWdi"
      },
      "source": [
        "# Drop column Fuel_Type_Electric\n",
        "X_train.drop(['Fuel_Type_Electric'], axis = 1, inplace = True)\n",
        "X_test.drop(['Fuel_Type_Electric'], axis = 1, inplace = True)"
      ],
      "execution_count": 33,
      "outputs": []
    },
    {
      "cell_type": "markdown",
      "metadata": {
        "id": "0QjNWpcwpRBH"
      },
      "source": [
        "### Multiple Linear Regression"
      ]
    },
    {
      "cell_type": "code",
      "metadata": {
        "colab": {
          "base_uri": "https://localhost:8080/"
        },
        "id": "tMry3_UZpaYB",
        "outputId": "f1c86a55-cbb9-4648-ae9c-818e5b581c28"
      },
      "source": [
        "from sklearn.linear_model import LinearRegression\n",
        "\n",
        "lr = LinearRegression()\n",
        "\n",
        "#fit the multiple linear regression model\n",
        "lr.fit(X_train, y_train)"
      ],
      "execution_count": 34,
      "outputs": [
        {
          "output_type": "execute_result",
          "data": {
            "text/plain": [
              "LinearRegression(copy_X=True, fit_intercept=True, n_jobs=None, normalize=False)"
            ]
          },
          "metadata": {
            "tags": []
          },
          "execution_count": 34
        }
      ]
    },
    {
      "cell_type": "code",
      "metadata": {
        "colab": {
          "base_uri": "https://localhost:8080/"
        },
        "id": "Dw6rBJRrrNwv",
        "outputId": "c15d9dab-2f49-4a91-d4df-43b91fb22118"
      },
      "source": [
        "#intercept\n",
        "print(\"The intercept is: \", lr.intercept_)"
      ],
      "execution_count": 35,
      "outputs": [
        {
          "output_type": "stream",
          "text": [
            "The intercept is:  13.329736173423255\n"
          ],
          "name": "stdout"
        }
      ]
    },
    {
      "cell_type": "code",
      "metadata": {
        "colab": {
          "base_uri": "https://localhost:8080/",
          "height": 762
        },
        "id": "yrr8GTOxwcpK",
        "outputId": "ff8d352b-6252-4aec-a4c5-b6c553531c22"
      },
      "source": [
        "#coefficient\n",
        "df_coef = pd.DataFrame(lr.coef_, X_train.columns, columns=['Coefficient'])\n",
        "df_coef"
      ],
      "execution_count": 36,
      "outputs": [
        {
          "output_type": "execute_result",
          "data": {
            "text/html": [
              "<div>\n",
              "<style scoped>\n",
              "    .dataframe tbody tr th:only-of-type {\n",
              "        vertical-align: middle;\n",
              "    }\n",
              "\n",
              "    .dataframe tbody tr th {\n",
              "        vertical-align: top;\n",
              "    }\n",
              "\n",
              "    .dataframe thead th {\n",
              "        text-align: right;\n",
              "    }\n",
              "</style>\n",
              "<table border=\"1\" class=\"dataframe\">\n",
              "  <thead>\n",
              "    <tr style=\"text-align: right;\">\n",
              "      <th></th>\n",
              "      <th>Coefficient</th>\n",
              "    </tr>\n",
              "  </thead>\n",
              "  <tbody>\n",
              "    <tr>\n",
              "      <th>Year</th>\n",
              "      <td>3.345829</td>\n",
              "    </tr>\n",
              "    <tr>\n",
              "      <th>Kilometers_Driven</th>\n",
              "      <td>0.147396</td>\n",
              "    </tr>\n",
              "    <tr>\n",
              "      <th>Mileage</th>\n",
              "      <td>-0.998881</td>\n",
              "    </tr>\n",
              "    <tr>\n",
              "      <th>Engine</th>\n",
              "      <td>0.928646</td>\n",
              "    </tr>\n",
              "    <tr>\n",
              "      <th>Power</th>\n",
              "      <td>6.193584</td>\n",
              "    </tr>\n",
              "    <tr>\n",
              "      <th>Seats</th>\n",
              "      <td>-1.161940</td>\n",
              "    </tr>\n",
              "    <tr>\n",
              "      <th>Location_Bangalore</th>\n",
              "      <td>1.682182</td>\n",
              "    </tr>\n",
              "    <tr>\n",
              "      <th>Location_Chennai</th>\n",
              "      <td>0.602004</td>\n",
              "    </tr>\n",
              "    <tr>\n",
              "      <th>Location_Coimbatore</th>\n",
              "      <td>2.084552</td>\n",
              "    </tr>\n",
              "    <tr>\n",
              "      <th>Location_Delhi</th>\n",
              "      <td>-0.484835</td>\n",
              "    </tr>\n",
              "    <tr>\n",
              "      <th>Location_Hyderabad</th>\n",
              "      <td>1.682834</td>\n",
              "    </tr>\n",
              "    <tr>\n",
              "      <th>Location_Jaipur</th>\n",
              "      <td>0.773254</td>\n",
              "    </tr>\n",
              "    <tr>\n",
              "      <th>Location_Kochi</th>\n",
              "      <td>-0.291593</td>\n",
              "    </tr>\n",
              "    <tr>\n",
              "      <th>Location_Kolkata</th>\n",
              "      <td>-0.955657</td>\n",
              "    </tr>\n",
              "    <tr>\n",
              "      <th>Location_Mumbai</th>\n",
              "      <td>-0.775863</td>\n",
              "    </tr>\n",
              "    <tr>\n",
              "      <th>Location_Pune</th>\n",
              "      <td>0.306958</td>\n",
              "    </tr>\n",
              "    <tr>\n",
              "      <th>Fuel_Type_Diesel</th>\n",
              "      <td>-1.166687</td>\n",
              "    </tr>\n",
              "    <tr>\n",
              "      <th>Fuel_Type_LPG</th>\n",
              "      <td>1.323960</td>\n",
              "    </tr>\n",
              "    <tr>\n",
              "      <th>Fuel_Type_Petrol</th>\n",
              "      <td>-3.567540</td>\n",
              "    </tr>\n",
              "    <tr>\n",
              "      <th>Transmission_Manual</th>\n",
              "      <td>-2.563627</td>\n",
              "    </tr>\n",
              "    <tr>\n",
              "      <th>Owner_Type_Fourth &amp; Above</th>\n",
              "      <td>1.876501</td>\n",
              "    </tr>\n",
              "    <tr>\n",
              "      <th>Owner_Type_Second</th>\n",
              "      <td>-0.651112</td>\n",
              "    </tr>\n",
              "    <tr>\n",
              "      <th>Owner_Type_Third</th>\n",
              "      <td>0.878499</td>\n",
              "    </tr>\n",
              "  </tbody>\n",
              "</table>\n",
              "</div>"
            ],
            "text/plain": [
              "                           Coefficient\n",
              "Year                          3.345829\n",
              "Kilometers_Driven             0.147396\n",
              "Mileage                      -0.998881\n",
              "Engine                        0.928646\n",
              "Power                         6.193584\n",
              "Seats                        -1.161940\n",
              "Location_Bangalore            1.682182\n",
              "Location_Chennai              0.602004\n",
              "Location_Coimbatore           2.084552\n",
              "Location_Delhi               -0.484835\n",
              "Location_Hyderabad            1.682834\n",
              "Location_Jaipur               0.773254\n",
              "Location_Kochi               -0.291593\n",
              "Location_Kolkata             -0.955657\n",
              "Location_Mumbai              -0.775863\n",
              "Location_Pune                 0.306958\n",
              "Fuel_Type_Diesel             -1.166687\n",
              "Fuel_Type_LPG                 1.323960\n",
              "Fuel_Type_Petrol             -3.567540\n",
              "Transmission_Manual          -2.563627\n",
              "Owner_Type_Fourth & Above     1.876501\n",
              "Owner_Type_Second            -0.651112\n",
              "Owner_Type_Third              0.878499"
            ]
          },
          "metadata": {
            "tags": []
          },
          "execution_count": 36
        }
      ]
    },
    {
      "cell_type": "code",
      "metadata": {
        "id": "nDVxt8xyrSfd"
      },
      "source": [
        "#making prediction\n",
        "y_pred = lr.predict(X_test)"
      ],
      "execution_count": 37,
      "outputs": []
    },
    {
      "cell_type": "code",
      "metadata": {
        "colab": {
          "base_uri": "https://localhost:8080/",
          "height": 419
        },
        "id": "6sARo31avsLm",
        "outputId": "9ef88043-15ee-4ba8-ca14-a31f18ed0e8b"
      },
      "source": [
        "df_pred = pd.DataFrame({'Actual': y_test, 'Predicted' : y_pred})\n",
        "df_pred"
      ],
      "execution_count": 38,
      "outputs": [
        {
          "output_type": "execute_result",
          "data": {
            "text/html": [
              "<div>\n",
              "<style scoped>\n",
              "    .dataframe tbody tr th:only-of-type {\n",
              "        vertical-align: middle;\n",
              "    }\n",
              "\n",
              "    .dataframe tbody tr th {\n",
              "        vertical-align: top;\n",
              "    }\n",
              "\n",
              "    .dataframe thead th {\n",
              "        text-align: right;\n",
              "    }\n",
              "</style>\n",
              "<table border=\"1\" class=\"dataframe\">\n",
              "  <thead>\n",
              "    <tr style=\"text-align: right;\">\n",
              "      <th></th>\n",
              "      <th>Actual</th>\n",
              "      <th>Predicted</th>\n",
              "    </tr>\n",
              "  </thead>\n",
              "  <tbody>\n",
              "    <tr>\n",
              "      <th>289</th>\n",
              "      <td>6.90</td>\n",
              "      <td>8.621980</td>\n",
              "    </tr>\n",
              "    <tr>\n",
              "      <th>5363</th>\n",
              "      <td>16.59</td>\n",
              "      <td>18.327215</td>\n",
              "    </tr>\n",
              "    <tr>\n",
              "      <th>2198</th>\n",
              "      <td>3.50</td>\n",
              "      <td>4.896558</td>\n",
              "    </tr>\n",
              "    <tr>\n",
              "      <th>1022</th>\n",
              "      <td>3.50</td>\n",
              "      <td>3.463867</td>\n",
              "    </tr>\n",
              "    <tr>\n",
              "      <th>5774</th>\n",
              "      <td>1.95</td>\n",
              "      <td>-0.621474</td>\n",
              "    </tr>\n",
              "    <tr>\n",
              "      <th>...</th>\n",
              "      <td>...</td>\n",
              "      <td>...</td>\n",
              "    </tr>\n",
              "    <tr>\n",
              "      <th>653</th>\n",
              "      <td>20.50</td>\n",
              "      <td>22.196311</td>\n",
              "    </tr>\n",
              "    <tr>\n",
              "      <th>4112</th>\n",
              "      <td>3.70</td>\n",
              "      <td>9.031407</td>\n",
              "    </tr>\n",
              "    <tr>\n",
              "      <th>2437</th>\n",
              "      <td>3.25</td>\n",
              "      <td>4.558327</td>\n",
              "    </tr>\n",
              "    <tr>\n",
              "      <th>626</th>\n",
              "      <td>12.46</td>\n",
              "      <td>13.914307</td>\n",
              "    </tr>\n",
              "    <tr>\n",
              "      <th>2064</th>\n",
              "      <td>11.90</td>\n",
              "      <td>13.309130</td>\n",
              "    </tr>\n",
              "  </tbody>\n",
              "</table>\n",
              "<p>1505 rows × 2 columns</p>\n",
              "</div>"
            ],
            "text/plain": [
              "      Actual  Predicted\n",
              "289     6.90   8.621980\n",
              "5363   16.59  18.327215\n",
              "2198    3.50   4.896558\n",
              "1022    3.50   3.463867\n",
              "5774    1.95  -0.621474\n",
              "...      ...        ...\n",
              "653    20.50  22.196311\n",
              "4112    3.70   9.031407\n",
              "2437    3.25   4.558327\n",
              "626    12.46  13.914307\n",
              "2064   11.90  13.309130\n",
              "\n",
              "[1505 rows x 2 columns]"
            ]
          },
          "metadata": {
            "tags": []
          },
          "execution_count": 38
        }
      ]
    },
    {
      "cell_type": "code",
      "metadata": {
        "colab": {
          "base_uri": "https://localhost:8080/"
        },
        "id": "qIE7aSbGwBUg",
        "outputId": "e7a99aff-dde6-424b-db45-c4376d866b76"
      },
      "source": [
        "#Evaluating the algorithm\n",
        "from sklearn import metrics\n",
        "print('Mean Absolute Error:', metrics.mean_absolute_error(y_test, y_pred))\n",
        "print('Mean Squared Error:', metrics.mean_squared_error(y_test, y_pred))\n",
        "print('Root Mean Squared Error:', np.sqrt(metrics.mean_squared_error(y_test, y_pred)))\n",
        "#RMSE has the benefit of penalizing large errors more appropriate in some cases"
      ],
      "execution_count": 39,
      "outputs": [
        {
          "output_type": "stream",
          "text": [
            "Mean Absolute Error: 3.6806211291260964\n",
            "Mean Squared Error: 36.3199191529161\n",
            "Root Mean Squared Error: 6.02660096181223\n"
          ],
          "name": "stdout"
        }
      ]
    },
    {
      "cell_type": "markdown",
      "metadata": {
        "id": "fm2P8M7jKqEy"
      },
      "source": [
        "### MLR with Bagging"
      ]
    },
    {
      "cell_type": "code",
      "metadata": {
        "colab": {
          "base_uri": "https://localhost:8080/"
        },
        "id": "nUzE4Lem4dnb",
        "outputId": "37dfaa75-19bb-4606-d87c-a2d7c4a099b5"
      },
      "source": [
        "from sklearn.ensemble import BaggingRegressor\n",
        "from sklearn.linear_model import LinearRegression\n",
        "\n",
        "param_grid = {'n_estimators': [200, 400, 600],\n",
        "              'max_samples': [100, 200]}\n",
        "\n",
        "lr = LinearRegression()\n",
        "bag_lr = BaggingRegressor(lr, bootstrap = True, n_jobs = -1, random_state = 0)\n",
        "grid = GridSearchCV(bag_lr, param_grid, cv = 3)\n",
        "grid.fit(X_train, y_train)\n",
        "print('Best Parameters: ', grid.best_params_)"
      ],
      "execution_count": 40,
      "outputs": [
        {
          "output_type": "execute_result",
          "data": {
            "text/plain": [
              "GridSearchCV(cv=3, error_score=nan,\n",
              "             estimator=BaggingRegressor(base_estimator=LinearRegression(copy_X=True,\n",
              "                                                                        fit_intercept=True,\n",
              "                                                                        n_jobs=None,\n",
              "                                                                        normalize=False),\n",
              "                                        bootstrap=True,\n",
              "                                        bootstrap_features=False,\n",
              "                                        max_features=1.0, max_samples=1.0,\n",
              "                                        n_estimators=10, n_jobs=-1,\n",
              "                                        oob_score=False, random_state=0,\n",
              "                                        verbose=0, warm_start=False),\n",
              "             iid='deprecated', n_jobs=None,\n",
              "             param_grid={'max_samples': [100, 200],\n",
              "                         'n_estimators': [200, 400, 600]},\n",
              "             pre_dispatch='2*n_jobs', refit=True, return_train_score=False,\n",
              "             scoring=None, verbose=0)"
            ]
          },
          "metadata": {
            "tags": []
          },
          "execution_count": 40
        },
        {
          "output_type": "stream",
          "text": [
            "Best Parameters:  {'max_samples': 200, 'n_estimators': 600}\n"
          ],
          "name": "stdout"
        }
      ]
    },
    {
      "cell_type": "code",
      "metadata": {
        "colab": {
          "base_uri": "https://localhost:8080/"
        },
        "id": "n_3IP6tV4rJc",
        "outputId": "dfac629a-da53-4c96-c419-d535eab5bbd0"
      },
      "source": [
        "bag_lr = BaggingRegressor(lr, max_samples = 200, n_estimators = 600, bootstrap = True, n_jobs = -1, random_state = 0)\n",
        "bag_lr.fit(X_train, y_train)"
      ],
      "execution_count": 41,
      "outputs": [
        {
          "output_type": "execute_result",
          "data": {
            "text/plain": [
              "BaggingRegressor(base_estimator=LinearRegression(copy_X=True,\n",
              "                                                 fit_intercept=True,\n",
              "                                                 n_jobs=None, normalize=False),\n",
              "                 bootstrap=True, bootstrap_features=False, max_features=1.0,\n",
              "                 max_samples=200, n_estimators=600, n_jobs=-1, oob_score=False,\n",
              "                 random_state=0, verbose=0, warm_start=False)"
            ]
          },
          "metadata": {
            "tags": []
          },
          "execution_count": 41
        }
      ]
    },
    {
      "cell_type": "code",
      "metadata": {
        "id": "dqb2hjGA47HH"
      },
      "source": [
        "y_pred = bag_lr.predict(X_test)"
      ],
      "execution_count": 42,
      "outputs": []
    },
    {
      "cell_type": "code",
      "metadata": {
        "colab": {
          "base_uri": "https://localhost:8080/"
        },
        "id": "W6WSoKai5RU3",
        "outputId": "e3873c64-3093-40fe-e393-5067c87d7008"
      },
      "source": [
        "print('Mean Absolute Error:', metrics.mean_absolute_error(y_test, y_pred))\n",
        "print('Mean Squared Error:', metrics.mean_squared_error(y_test, y_pred))\n",
        "print('Root Mean Squared Error:', np.sqrt(metrics.mean_squared_error(y_test, y_pred)))"
      ],
      "execution_count": 43,
      "outputs": [
        {
          "output_type": "stream",
          "text": [
            "Mean Absolute Error: 3.60244928014496\n",
            "Mean Squared Error: 35.166787866878714\n",
            "Root Mean Squared Error: 5.930159177195728\n"
          ],
          "name": "stdout"
        }
      ]
    },
    {
      "cell_type": "markdown",
      "metadata": {
        "id": "4AUfKxgKTydi"
      },
      "source": [
        "### Decision Tree Regressor"
      ]
    },
    {
      "cell_type": "code",
      "metadata": {
        "colab": {
          "base_uri": "https://localhost:8080/"
        },
        "id": "G4m7S-rZUEbH",
        "outputId": "1c1508fd-ef09-4025-8d1e-c056c1a69c7f"
      },
      "source": [
        "from sklearn.tree import DecisionTreeRegressor\n",
        "\n",
        "param_grid = {'max_depth': [5, 10, 15],\n",
        "              'min_samples_split': [2, 3, 4]}\n",
        "\n",
        "dtr = DecisionTreeRegressor(random_state = 0)\n",
        "grid = GridSearchCV(dtr, param_grid, cv = 3)\n",
        "grid.fit(X_train, y_train)\n",
        "print('Best Parameters: ', grid.best_params_)"
      ],
      "execution_count": 44,
      "outputs": [
        {
          "output_type": "execute_result",
          "data": {
            "text/plain": [
              "GridSearchCV(cv=3, error_score=nan,\n",
              "             estimator=DecisionTreeRegressor(ccp_alpha=0.0, criterion='mse',\n",
              "                                             max_depth=None, max_features=None,\n",
              "                                             max_leaf_nodes=None,\n",
              "                                             min_impurity_decrease=0.0,\n",
              "                                             min_impurity_split=None,\n",
              "                                             min_samples_leaf=1,\n",
              "                                             min_samples_split=2,\n",
              "                                             min_weight_fraction_leaf=0.0,\n",
              "                                             presort='deprecated',\n",
              "                                             random_state=0, splitter='best'),\n",
              "             iid='deprecated', n_jobs=None,\n",
              "             param_grid={'max_depth': [5, 10, 15],\n",
              "                         'min_samples_split': [2, 3, 4]},\n",
              "             pre_dispatch='2*n_jobs', refit=True, return_train_score=False,\n",
              "             scoring=None, verbose=0)"
            ]
          },
          "metadata": {
            "tags": []
          },
          "execution_count": 44
        },
        {
          "output_type": "stream",
          "text": [
            "Best Parameters:  {'max_depth': 10, 'min_samples_split': 3}\n"
          ],
          "name": "stdout"
        }
      ]
    },
    {
      "cell_type": "code",
      "metadata": {
        "colab": {
          "base_uri": "https://localhost:8080/"
        },
        "id": "YJPsz0FATXSQ",
        "outputId": "53ef9b2b-9c42-4b93-a3e7-6d2baa531027"
      },
      "source": [
        "dtr = DecisionTreeRegressor(max_depth = 10, min_samples_split=3)\n",
        "dtr.fit(X_train, y_train)\n",
        "y_pred = dtr.predict(X_test)"
      ],
      "execution_count": 45,
      "outputs": [
        {
          "output_type": "execute_result",
          "data": {
            "text/plain": [
              "DecisionTreeRegressor(ccp_alpha=0.0, criterion='mse', max_depth=10,\n",
              "                      max_features=None, max_leaf_nodes=None,\n",
              "                      min_impurity_decrease=0.0, min_impurity_split=None,\n",
              "                      min_samples_leaf=1, min_samples_split=3,\n",
              "                      min_weight_fraction_leaf=0.0, presort='deprecated',\n",
              "                      random_state=None, splitter='best')"
            ]
          },
          "metadata": {
            "tags": []
          },
          "execution_count": 45
        }
      ]
    },
    {
      "cell_type": "code",
      "metadata": {
        "colab": {
          "base_uri": "https://localhost:8080/"
        },
        "id": "VzLrcjT2T5YV",
        "outputId": "b5087c92-d773-4937-c82b-065a5d62cdee"
      },
      "source": [
        "print('Mean Absolute Error:', metrics.mean_absolute_error(y_test, y_pred))\n",
        "print('Mean Squared Error:', metrics.mean_squared_error(y_test, y_pred))\n",
        "print('Root Mean Squared Error:', np.sqrt(metrics.mean_squared_error(y_test, y_pred)))"
      ],
      "execution_count": 46,
      "outputs": [
        {
          "output_type": "stream",
          "text": [
            "Mean Absolute Error: 2.076308055515082\n",
            "Mean Squared Error: 28.518246322057696\n",
            "Root Mean Squared Error: 5.340247777215744\n"
          ],
          "name": "stdout"
        }
      ]
    },
    {
      "cell_type": "markdown",
      "metadata": {
        "id": "rlJVvnC_RyOk"
      },
      "source": [
        "### Decision Tree Regressor with Bagging"
      ]
    },
    {
      "cell_type": "code",
      "metadata": {
        "colab": {
          "base_uri": "https://localhost:8080/"
        },
        "id": "LruLHYSlR2Yt",
        "outputId": "764dbc59-b321-47ed-eae5-e24e84a7ef4b"
      },
      "source": [
        "param_grid = {'max_depth': [5, 10, 15],\n",
        "              'min_samples_split': [5, 10, 15]}\n",
        "\n",
        "dtr = DecisionTreeRegressor(random_state = 0)\n",
        "grid = GridSearchCV(dtr, param_grid, cv = 3)\n",
        "grid.fit(X_train, y_train)\n",
        "print('Best Parameters: ', grid.best_params_)"
      ],
      "execution_count": 47,
      "outputs": [
        {
          "output_type": "execute_result",
          "data": {
            "text/plain": [
              "GridSearchCV(cv=3, error_score=nan,\n",
              "             estimator=DecisionTreeRegressor(ccp_alpha=0.0, criterion='mse',\n",
              "                                             max_depth=None, max_features=None,\n",
              "                                             max_leaf_nodes=None,\n",
              "                                             min_impurity_decrease=0.0,\n",
              "                                             min_impurity_split=None,\n",
              "                                             min_samples_leaf=1,\n",
              "                                             min_samples_split=2,\n",
              "                                             min_weight_fraction_leaf=0.0,\n",
              "                                             presort='deprecated',\n",
              "                                             random_state=0, splitter='best'),\n",
              "             iid='deprecated', n_jobs=None,\n",
              "             param_grid={'max_depth': [5, 10, 15],\n",
              "                         'min_samples_split': [5, 10, 15]},\n",
              "             pre_dispatch='2*n_jobs', refit=True, return_train_score=False,\n",
              "             scoring=None, verbose=0)"
            ]
          },
          "metadata": {
            "tags": []
          },
          "execution_count": 47
        },
        {
          "output_type": "stream",
          "text": [
            "Best Parameters:  {'max_depth': 15, 'min_samples_split': 10}\n"
          ],
          "name": "stdout"
        }
      ]
    },
    {
      "cell_type": "code",
      "metadata": {
        "colab": {
          "base_uri": "https://localhost:8080/"
        },
        "id": "1ZjO4kz8SCXq",
        "outputId": "31da893b-c475-4998-e014-b730fe2dd1e7"
      },
      "source": [
        "# GridSearch finds the max_samples & n_estimators for BaggingRegressor\n",
        "param_grid = {'n_estimators': [200, 400, 600],\n",
        "              'max_samples': [100, 200]}\n",
        "\n",
        "dtr = DecisionTreeRegressor(max_depth = 15, min_samples_split=10)\n",
        "bag_dtr = BaggingRegressor(dtr, bootstrap = True, n_jobs = -1, random_state = 0)\n",
        "grid = GridSearchCV(bag_dtr, param_grid, cv = 3, return_train_score = True)\n",
        "grid.fit(X_train, y_train)\n",
        "print('Best Parameters: ', grid.best_params_)"
      ],
      "execution_count": 48,
      "outputs": [
        {
          "output_type": "execute_result",
          "data": {
            "text/plain": [
              "GridSearchCV(cv=3, error_score=nan,\n",
              "             estimator=BaggingRegressor(base_estimator=DecisionTreeRegressor(ccp_alpha=0.0,\n",
              "                                                                             criterion='mse',\n",
              "                                                                             max_depth=15,\n",
              "                                                                             max_features=None,\n",
              "                                                                             max_leaf_nodes=None,\n",
              "                                                                             min_impurity_decrease=0.0,\n",
              "                                                                             min_impurity_split=None,\n",
              "                                                                             min_samples_leaf=1,\n",
              "                                                                             min_samples_split=10,\n",
              "                                                                             min_weight_fraction_leaf=0.0,\n",
              "                                                                             presort='deprecated',\n",
              "                                                                             random_state=None,\n",
              "                                                                             splitter='best'),\n",
              "                                        bootstrap=True,\n",
              "                                        bootstrap_features=False,\n",
              "                                        max_features=1.0, max_samples=1.0,\n",
              "                                        n_estimators=10, n_jobs=-1,\n",
              "                                        oob_score=False, random_state=0,\n",
              "                                        verbose=0, warm_start=False),\n",
              "             iid='deprecated', n_jobs=None,\n",
              "             param_grid={'max_samples': [100, 200],\n",
              "                         'n_estimators': [200, 400, 600]},\n",
              "             pre_dispatch='2*n_jobs', refit=True, return_train_score=True,\n",
              "             scoring=None, verbose=0)"
            ]
          },
          "metadata": {
            "tags": []
          },
          "execution_count": 48
        },
        {
          "output_type": "stream",
          "text": [
            "Best Parameters:  {'max_samples': 200, 'n_estimators': 600}\n"
          ],
          "name": "stdout"
        }
      ]
    },
    {
      "cell_type": "code",
      "metadata": {
        "colab": {
          "base_uri": "https://localhost:8080/"
        },
        "id": "ogYIQADnS0ra",
        "outputId": "392b4c29-8635-4cb7-f948-dbe62e3a8c48"
      },
      "source": [
        "bag_dtr = BaggingRegressor(dtr, max_samples = 200, n_estimators = 600, bootstrap = True, n_jobs = -1, random_state = 0)\n",
        "bag_dtr.fit(X_train, y_train)"
      ],
      "execution_count": 49,
      "outputs": [
        {
          "output_type": "execute_result",
          "data": {
            "text/plain": [
              "BaggingRegressor(base_estimator=DecisionTreeRegressor(ccp_alpha=0.0,\n",
              "                                                      criterion='mse',\n",
              "                                                      max_depth=15,\n",
              "                                                      max_features=None,\n",
              "                                                      max_leaf_nodes=None,\n",
              "                                                      min_impurity_decrease=0.0,\n",
              "                                                      min_impurity_split=None,\n",
              "                                                      min_samples_leaf=1,\n",
              "                                                      min_samples_split=10,\n",
              "                                                      min_weight_fraction_leaf=0.0,\n",
              "                                                      presort='deprecated',\n",
              "                                                      random_state=None,\n",
              "                                                      splitter='best'),\n",
              "                 bootstrap=True, bootstrap_features=False, max_features=1.0,\n",
              "                 max_samples=200, n_estimators=600, n_jobs=-1, oob_score=False,\n",
              "                 random_state=0, verbose=0, warm_start=False)"
            ]
          },
          "metadata": {
            "tags": []
          },
          "execution_count": 49
        }
      ]
    },
    {
      "cell_type": "code",
      "metadata": {
        "id": "n7l9DSqPTBeY"
      },
      "source": [
        "y_pred = bag_dtr.predict(X_test)"
      ],
      "execution_count": 50,
      "outputs": []
    },
    {
      "cell_type": "code",
      "metadata": {
        "colab": {
          "base_uri": "https://localhost:8080/"
        },
        "id": "VdYQ8Pj4TD44",
        "outputId": "077f2b5d-332c-4ee5-f5f1-64e5c79edf46"
      },
      "source": [
        "print('Mean Absolute Error:', metrics.mean_absolute_error(y_test, y_pred))\n",
        "print('Mean Squared Error:', metrics.mean_squared_error(y_test, y_pred))\n",
        "print('Root Mean Squared Error:', np.sqrt(metrics.mean_squared_error(y_test, y_pred)))"
      ],
      "execution_count": 51,
      "outputs": [
        {
          "output_type": "stream",
          "text": [
            "Mean Absolute Error: 2.1697318092240034\n",
            "Mean Squared Error: 21.460782954501134\n",
            "Root Mean Squared Error: 4.6325784347921335\n"
          ],
          "name": "stdout"
        }
      ]
    },
    {
      "cell_type": "markdown",
      "metadata": {
        "id": "pEkW0S7gU1g4"
      },
      "source": [
        "### Random Forest Regressor"
      ]
    },
    {
      "cell_type": "code",
      "metadata": {
        "colab": {
          "base_uri": "https://localhost:8080/"
        },
        "id": "DP66mP5mWvOZ",
        "outputId": "5733b8e2-8b2f-4a4b-fcdf-d5664ee836cd"
      },
      "source": [
        "from sklearn.ensemble import RandomForestRegressor\n",
        "\n",
        "param_grid = {'n_estimators': [10, 20, 30],\n",
        "              'max_depth': [5, 10, 15],\n",
        "              'min_samples_split': [5, 10, 15]}\n",
        "\n",
        "rfr = RandomForestRegressor(random_state = 0)\n",
        "grid = GridSearchCV(rfr, param_grid, cv = 3)\n",
        "grid.fit(X_train, y_train)\n",
        "print('Best Parameters: ', grid.best_params_)"
      ],
      "execution_count": 52,
      "outputs": [
        {
          "output_type": "execute_result",
          "data": {
            "text/plain": [
              "GridSearchCV(cv=3, error_score=nan,\n",
              "             estimator=RandomForestRegressor(bootstrap=True, ccp_alpha=0.0,\n",
              "                                             criterion='mse', max_depth=None,\n",
              "                                             max_features='auto',\n",
              "                                             max_leaf_nodes=None,\n",
              "                                             max_samples=None,\n",
              "                                             min_impurity_decrease=0.0,\n",
              "                                             min_impurity_split=None,\n",
              "                                             min_samples_leaf=1,\n",
              "                                             min_samples_split=2,\n",
              "                                             min_weight_fraction_leaf=0.0,\n",
              "                                             n_estimators=100, n_jobs=None,\n",
              "                                             oob_score=False, random_state=0,\n",
              "                                             verbose=0, warm_start=False),\n",
              "             iid='deprecated', n_jobs=None,\n",
              "             param_grid={'max_depth': [5, 10, 15],\n",
              "                         'min_samples_split': [5, 10, 15],\n",
              "                         'n_estimators': [10, 20, 30]},\n",
              "             pre_dispatch='2*n_jobs', refit=True, return_train_score=False,\n",
              "             scoring=None, verbose=0)"
            ]
          },
          "metadata": {
            "tags": []
          },
          "execution_count": 52
        },
        {
          "output_type": "stream",
          "text": [
            "Best Parameters:  {'max_depth': 15, 'min_samples_split': 5, 'n_estimators': 30}\n"
          ],
          "name": "stdout"
        }
      ]
    },
    {
      "cell_type": "code",
      "metadata": {
        "colab": {
          "base_uri": "https://localhost:8080/"
        },
        "id": "_bJBk3D9U5wm",
        "outputId": "f68e122e-877c-4a21-f6ad-1ab0d00face9"
      },
      "source": [
        "rfr = RandomForestRegressor(n_estimators = 30, max_depth = 15, min_samples_split = 5, random_state = 0)\n",
        "rfr.fit(X_train, y_train)\n",
        "y_pred = rfr.predict(X_test)"
      ],
      "execution_count": 53,
      "outputs": [
        {
          "output_type": "execute_result",
          "data": {
            "text/plain": [
              "RandomForestRegressor(bootstrap=True, ccp_alpha=0.0, criterion='mse',\n",
              "                      max_depth=15, max_features='auto', max_leaf_nodes=None,\n",
              "                      max_samples=None, min_impurity_decrease=0.0,\n",
              "                      min_impurity_split=None, min_samples_leaf=1,\n",
              "                      min_samples_split=5, min_weight_fraction_leaf=0.0,\n",
              "                      n_estimators=30, n_jobs=None, oob_score=False,\n",
              "                      random_state=0, verbose=0, warm_start=False)"
            ]
          },
          "metadata": {
            "tags": []
          },
          "execution_count": 53
        }
      ]
    },
    {
      "cell_type": "code",
      "metadata": {
        "colab": {
          "base_uri": "https://localhost:8080/"
        },
        "id": "V2Uo7HdJWf9R",
        "outputId": "768f25f1-9fde-4661-f425-ef7f0ef1139c"
      },
      "source": [
        "print('Mean Absolute Error:', metrics.mean_absolute_error(y_test, y_pred))\n",
        "print('Mean Squared Error:', metrics.mean_squared_error(y_test, y_pred))\n",
        "print('Root Mean Squared Error:', np.sqrt(metrics.mean_squared_error(y_test, y_pred)))"
      ],
      "execution_count": 54,
      "outputs": [
        {
          "output_type": "stream",
          "text": [
            "Mean Absolute Error: 1.5419098055126663\n",
            "Mean Squared Error: 12.240090380448688\n",
            "Root Mean Squared Error: 3.4985840536492314\n"
          ],
          "name": "stdout"
        }
      ]
    },
    {
      "cell_type": "markdown",
      "metadata": {
        "id": "j5bROBMtdv9o"
      },
      "source": [
        "#### Feature Importance"
      ]
    },
    {
      "cell_type": "code",
      "metadata": {
        "colab": {
          "base_uri": "https://localhost:8080/"
        },
        "id": "iQOD83vcZt8K",
        "outputId": "a956bcc9-932a-4ff5-9bd8-2988681b5dc4"
      },
      "source": [
        "rfr.feature_importances_"
      ],
      "execution_count": 55,
      "outputs": [
        {
          "output_type": "execute_result",
          "data": {
            "text/plain": [
              "array([1.62740247e-01, 4.33100844e-02, 2.34622316e-02, 5.38195015e-02,\n",
              "       6.63145976e-01, 1.49613406e-02, 1.63831536e-03, 1.15316155e-03,\n",
              "       2.79466068e-03, 1.74984438e-03, 1.28833722e-02, 2.58674823e-04,\n",
              "       1.81078865e-03, 1.42226943e-03, 1.50114043e-03, 5.73130175e-04,\n",
              "       1.68546873e-03, 3.72513606e-07, 2.27833918e-03, 7.21281174e-03,\n",
              "       1.27934449e-06, 1.18948249e-03, 4.07507722e-04])"
            ]
          },
          "metadata": {
            "tags": []
          },
          "execution_count": 55
        }
      ]
    },
    {
      "cell_type": "code",
      "metadata": {
        "colab": {
          "base_uri": "https://localhost:8080/"
        },
        "id": "znO1CjMzZ-06",
        "outputId": "059fc587-c576-4a5e-a12b-e342e4751816"
      },
      "source": [
        "columns = X_test.columns.tolist()\n",
        "\n",
        "for i, imp in enumerate(rfr.feature_importances_):\n",
        "  print('{}: {:.5f}'.format(columns[i], imp))\n",
        "\n",
        "#The most important feature is Power and then is the Year."
      ],
      "execution_count": 56,
      "outputs": [
        {
          "output_type": "stream",
          "text": [
            "Year: 0.16274\n",
            "Kilometers_Driven: 0.04331\n",
            "Mileage: 0.02346\n",
            "Engine: 0.05382\n",
            "Power: 0.66315\n",
            "Seats: 0.01496\n",
            "Location_Bangalore: 0.00164\n",
            "Location_Chennai: 0.00115\n",
            "Location_Coimbatore: 0.00279\n",
            "Location_Delhi: 0.00175\n",
            "Location_Hyderabad: 0.01288\n",
            "Location_Jaipur: 0.00026\n",
            "Location_Kochi: 0.00181\n",
            "Location_Kolkata: 0.00142\n",
            "Location_Mumbai: 0.00150\n",
            "Location_Pune: 0.00057\n",
            "Fuel_Type_Diesel: 0.00169\n",
            "Fuel_Type_LPG: 0.00000\n",
            "Fuel_Type_Petrol: 0.00228\n",
            "Transmission_Manual: 0.00721\n",
            "Owner_Type_Fourth & Above: 0.00000\n",
            "Owner_Type_Second: 0.00119\n",
            "Owner_Type_Third: 0.00041\n"
          ],
          "name": "stdout"
        }
      ]
    },
    {
      "cell_type": "markdown",
      "metadata": {
        "id": "cevMconQfMH3"
      },
      "source": [
        "### Support Vector Regressor\n",
        "*   *rbf* (Radial Basis Function) kernel: For a non-linear regression, the kernel function transforms the data to a higher dimensional and performs the linear separation.\n",
        "*   *linear* kernel: For linear regression.\n",
        "\n",
        "\n",
        "1.   If the number of feature is as large as the sample size -> LR or LinearSVM\n",
        "2.   If the number of feature is small but sample size is normal -> SVM + rbf\n",
        "3.   If the number of feature is small but sample size is large, then we need to add some features to become the 1st situation.\n",
        "\n",
        "\n",
        "\n",
        "\n",
        "\n"
      ]
    },
    {
      "cell_type": "code",
      "metadata": {
        "colab": {
          "base_uri": "https://localhost:8080/"
        },
        "id": "GwZqtRtpfQak",
        "outputId": "bc609ba0-03b6-4f1c-cf89-06e60de826d0"
      },
      "source": [
        "from sklearn.svm import SVR\n",
        "\n",
        "param_grid = {'kernel': ['linear', 'rbf'],\n",
        "              'C': [0.1, 1, 10],\n",
        "              'epsilon': [0.1, 1, 10]}\n",
        "\n",
        "svr = SVR()\n",
        "grid = GridSearchCV(svr, param_grid, cv = 3)\n",
        "grid.fit(X_train, y_train)\n",
        "print('Best Parameters: ', grid.best_params_)"
      ],
      "execution_count": 57,
      "outputs": [
        {
          "output_type": "execute_result",
          "data": {
            "text/plain": [
              "GridSearchCV(cv=3, error_score=nan,\n",
              "             estimator=SVR(C=1.0, cache_size=200, coef0=0.0, degree=3,\n",
              "                           epsilon=0.1, gamma='scale', kernel='rbf',\n",
              "                           max_iter=-1, shrinking=True, tol=0.001,\n",
              "                           verbose=False),\n",
              "             iid='deprecated', n_jobs=None,\n",
              "             param_grid={'C': [0.1, 1, 10], 'epsilon': [0.1, 1, 10],\n",
              "                         'kernel': ['linear', 'rbf']},\n",
              "             pre_dispatch='2*n_jobs', refit=True, return_train_score=False,\n",
              "             scoring=None, verbose=0)"
            ]
          },
          "metadata": {
            "tags": []
          },
          "execution_count": 57
        },
        {
          "output_type": "stream",
          "text": [
            "Best Parameters:  {'C': 10, 'epsilon': 1, 'kernel': 'rbf'}\n"
          ],
          "name": "stdout"
        }
      ]
    },
    {
      "cell_type": "code",
      "metadata": {
        "colab": {
          "base_uri": "https://localhost:8080/"
        },
        "id": "oHU7glk6iNmf",
        "outputId": "e19e5ad4-ab66-4050-a306-7f916f1181bd"
      },
      "source": [
        "svr = SVR(kernel = 'rbf', C = 10, epsilon = 1)\n",
        "svr.fit(X_train, y_train)\n",
        "y_pred = svr.predict(X_test)"
      ],
      "execution_count": 58,
      "outputs": [
        {
          "output_type": "execute_result",
          "data": {
            "text/plain": [
              "SVR(C=10, cache_size=200, coef0=0.0, degree=3, epsilon=1, gamma='scale',\n",
              "    kernel='rbf', max_iter=-1, shrinking=True, tol=0.001, verbose=False)"
            ]
          },
          "metadata": {
            "tags": []
          },
          "execution_count": 58
        }
      ]
    },
    {
      "cell_type": "code",
      "metadata": {
        "colab": {
          "base_uri": "https://localhost:8080/"
        },
        "id": "wr6ZGSzOiku9",
        "outputId": "be514850-302a-4e25-ad3e-d188d233290f"
      },
      "source": [
        "print('Mean Absolute Error:', metrics.mean_absolute_error(y_test, y_pred))\n",
        "print('Mean Squared Error:', metrics.mean_squared_error(y_test, y_pred))\n",
        "print('Root Mean Squared Error:', np.sqrt(metrics.mean_squared_error(y_test, y_pred)))"
      ],
      "execution_count": 59,
      "outputs": [
        {
          "output_type": "stream",
          "text": [
            "Mean Absolute Error: 1.7159053828390358\n",
            "Mean Squared Error: 16.06919776498892\n",
            "Root Mean Squared Error: 4.008640388584254\n"
          ],
          "name": "stdout"
        }
      ]
    },
    {
      "cell_type": "markdown",
      "metadata": {
        "id": "YUabpTBqc0H1"
      },
      "source": [
        "## MSE Summary\n",
        "> List all the MSE for different ML models to find the best one, here I get **Random Forest Regressor** to get the least **MSE: 12.09**. Therefore, I choose to use Random Forest Regressor to do the prediction.\n",
        "\n",
        "|Machine Learning Model| MSE |\n",
        "|----------------------| --- |\n",
        "|Multiple Linear Regression| 36.32 |\n",
        "|MLR with Bagging | 35.17 |\n",
        "|Decision Tree Regressor | 21.51 |\n",
        "|Decision Tree Regressor with Bagging | 21.46 |\n",
        "|Random Forest Regressor | 12.24 |\n",
        "|Support Vector Regressor | 16.07 |\n",
        "\n"
      ]
    },
    {
      "cell_type": "markdown",
      "metadata": {
        "id": "CoIJnehxedCK"
      },
      "source": [
        "## Prediction\n",
        "> Predict the car price with *test.csv*."
      ]
    },
    {
      "cell_type": "code",
      "metadata": {
        "colab": {
          "base_uri": "https://localhost:8080/",
          "height": 221
        },
        "id": "JIT9n5huel15",
        "outputId": "85ab7271-3be0-4a56-e178-02ff799303b6"
      },
      "source": [
        "test.head()\n",
        "test.shape"
      ],
      "execution_count": 60,
      "outputs": [
        {
          "output_type": "execute_result",
          "data": {
            "text/html": [
              "<div>\n",
              "<style scoped>\n",
              "    .dataframe tbody tr th:only-of-type {\n",
              "        vertical-align: middle;\n",
              "    }\n",
              "\n",
              "    .dataframe tbody tr th {\n",
              "        vertical-align: top;\n",
              "    }\n",
              "\n",
              "    .dataframe thead th {\n",
              "        text-align: right;\n",
              "    }\n",
              "</style>\n",
              "<table border=\"1\" class=\"dataframe\">\n",
              "  <thead>\n",
              "    <tr style=\"text-align: right;\">\n",
              "      <th></th>\n",
              "      <th>Location</th>\n",
              "      <th>Year</th>\n",
              "      <th>Kilometers_Driven</th>\n",
              "      <th>Fuel_Type</th>\n",
              "      <th>Transmission</th>\n",
              "      <th>Owner_Type</th>\n",
              "      <th>Mileage</th>\n",
              "      <th>Engine</th>\n",
              "      <th>Power</th>\n",
              "      <th>Seats</th>\n",
              "    </tr>\n",
              "  </thead>\n",
              "  <tbody>\n",
              "    <tr>\n",
              "      <th>0</th>\n",
              "      <td>Delhi</td>\n",
              "      <td>2014</td>\n",
              "      <td>40929</td>\n",
              "      <td>CNG</td>\n",
              "      <td>Manual</td>\n",
              "      <td>First</td>\n",
              "      <td>32.26</td>\n",
              "      <td>998.0</td>\n",
              "      <td>58.20</td>\n",
              "      <td>4.0</td>\n",
              "    </tr>\n",
              "    <tr>\n",
              "      <th>1</th>\n",
              "      <td>Coimbatore</td>\n",
              "      <td>2013</td>\n",
              "      <td>54493</td>\n",
              "      <td>Petrol</td>\n",
              "      <td>Manual</td>\n",
              "      <td>Second</td>\n",
              "      <td>24.70</td>\n",
              "      <td>796.0</td>\n",
              "      <td>47.30</td>\n",
              "      <td>5.0</td>\n",
              "    </tr>\n",
              "    <tr>\n",
              "      <th>2</th>\n",
              "      <td>Mumbai</td>\n",
              "      <td>2017</td>\n",
              "      <td>34000</td>\n",
              "      <td>Diesel</td>\n",
              "      <td>Manual</td>\n",
              "      <td>First</td>\n",
              "      <td>13.68</td>\n",
              "      <td>2393.0</td>\n",
              "      <td>147.80</td>\n",
              "      <td>7.0</td>\n",
              "    </tr>\n",
              "    <tr>\n",
              "      <th>3</th>\n",
              "      <td>Hyderabad</td>\n",
              "      <td>2012</td>\n",
              "      <td>139000</td>\n",
              "      <td>Diesel</td>\n",
              "      <td>Manual</td>\n",
              "      <td>First</td>\n",
              "      <td>23.59</td>\n",
              "      <td>1364.0</td>\n",
              "      <td>93.70</td>\n",
              "      <td>5.0</td>\n",
              "    </tr>\n",
              "    <tr>\n",
              "      <th>4</th>\n",
              "      <td>Mumbai</td>\n",
              "      <td>2014</td>\n",
              "      <td>29000</td>\n",
              "      <td>Petrol</td>\n",
              "      <td>Manual</td>\n",
              "      <td>First</td>\n",
              "      <td>18.50</td>\n",
              "      <td>1197.0</td>\n",
              "      <td>82.85</td>\n",
              "      <td>5.0</td>\n",
              "    </tr>\n",
              "  </tbody>\n",
              "</table>\n",
              "</div>"
            ],
            "text/plain": [
              "     Location  Year  Kilometers_Driven  ...  Engine   Power Seats\n",
              "0       Delhi  2014              40929  ...   998.0   58.20   4.0\n",
              "1  Coimbatore  2013              54493  ...   796.0   47.30   5.0\n",
              "2      Mumbai  2017              34000  ...  2393.0  147.80   7.0\n",
              "3   Hyderabad  2012             139000  ...  1364.0   93.70   5.0\n",
              "4      Mumbai  2014              29000  ...  1197.0   82.85   5.0\n",
              "\n",
              "[5 rows x 10 columns]"
            ]
          },
          "metadata": {
            "tags": []
          },
          "execution_count": 60
        },
        {
          "output_type": "execute_result",
          "data": {
            "text/plain": [
              "(1234, 10)"
            ]
          },
          "metadata": {
            "tags": []
          },
          "execution_count": 60
        }
      ]
    },
    {
      "cell_type": "code",
      "metadata": {
        "id": "NSA4SrizhBAh"
      },
      "source": [
        "# Get all features in test.csv\n",
        "features_test = [column_name for column_name in test.columns]\n",
        "\n",
        "# Get all categorical features\n",
        "categorical_test = [column_name for column_name in features if test[column_name].dtype == 'object']\n",
        "\n",
        "# Get all numeric columns\n",
        "numeric_test = [column_name for column_name in features if column_name not in categorical_test]"
      ],
      "execution_count": 61,
      "outputs": []
    },
    {
      "cell_type": "code",
      "metadata": {
        "colab": {
          "base_uri": "https://localhost:8080/"
        },
        "id": "xRja86pohWUr",
        "outputId": "aa658bf3-2a59-4c47-bdc9-4498ba49c80d"
      },
      "source": [
        "# Print them out and make sure\n",
        "print(features_test)\n",
        "print(categorical_test)\n",
        "print(numeric_test)"
      ],
      "execution_count": 62,
      "outputs": [
        {
          "output_type": "stream",
          "text": [
            "['Location', 'Year', 'Kilometers_Driven', 'Fuel_Type', 'Transmission', 'Owner_Type', 'Mileage', 'Engine', 'Power', 'Seats']\n",
            "['Location', 'Fuel_Type', 'Transmission', 'Owner_Type']\n",
            "['Year', 'Kilometers_Driven', 'Mileage', 'Engine', 'Power', 'Seats']\n"
          ],
          "name": "stdout"
        }
      ]
    },
    {
      "cell_type": "code",
      "metadata": {
        "id": "-QPIqM3WhkTU"
      },
      "source": [
        "# Transform numerical training and test data\n",
        "test_numeric_transform = scaler.fit_transform(test[numeric_test])\n",
        "\n",
        "# Replace columns in training and testing data accordingly\n",
        "test[numeric_test] = test_numeric_transform\n",
        "\n",
        "# One hot encode cat variables\n",
        "test = pd.get_dummies(test, columns= categorical_test, drop_first = True)"
      ],
      "execution_count": 63,
      "outputs": []
    },
    {
      "cell_type": "code",
      "metadata": {
        "colab": {
          "base_uri": "https://localhost:8080/",
          "height": 258
        },
        "id": "JkmYTn5qiWw_",
        "outputId": "dacbb13c-f4a8-4cc0-cf69-05d94bcccfec"
      },
      "source": [
        "test.head()\n",
        "test.shape"
      ],
      "execution_count": 64,
      "outputs": [
        {
          "output_type": "execute_result",
          "data": {
            "text/html": [
              "<div>\n",
              "<style scoped>\n",
              "    .dataframe tbody tr th:only-of-type {\n",
              "        vertical-align: middle;\n",
              "    }\n",
              "\n",
              "    .dataframe tbody tr th {\n",
              "        vertical-align: top;\n",
              "    }\n",
              "\n",
              "    .dataframe thead th {\n",
              "        text-align: right;\n",
              "    }\n",
              "</style>\n",
              "<table border=\"1\" class=\"dataframe\">\n",
              "  <thead>\n",
              "    <tr style=\"text-align: right;\">\n",
              "      <th></th>\n",
              "      <th>Year</th>\n",
              "      <th>Kilometers_Driven</th>\n",
              "      <th>Mileage</th>\n",
              "      <th>Engine</th>\n",
              "      <th>Power</th>\n",
              "      <th>Seats</th>\n",
              "      <th>Location_Bangalore</th>\n",
              "      <th>Location_Chennai</th>\n",
              "      <th>Location_Coimbatore</th>\n",
              "      <th>Location_Delhi</th>\n",
              "      <th>Location_Hyderabad</th>\n",
              "      <th>Location_Jaipur</th>\n",
              "      <th>Location_Kochi</th>\n",
              "      <th>Location_Kolkata</th>\n",
              "      <th>Location_Mumbai</th>\n",
              "      <th>Location_Pune</th>\n",
              "      <th>Fuel_Type_Diesel</th>\n",
              "      <th>Fuel_Type_LPG</th>\n",
              "      <th>Fuel_Type_Petrol</th>\n",
              "      <th>Transmission_Manual</th>\n",
              "      <th>Owner_Type_Fourth &amp; Above</th>\n",
              "      <th>Owner_Type_Second</th>\n",
              "      <th>Owner_Type_Third</th>\n",
              "    </tr>\n",
              "  </thead>\n",
              "  <tbody>\n",
              "    <tr>\n",
              "      <th>0</th>\n",
              "      <td>0.188672</td>\n",
              "      <td>-0.493990</td>\n",
              "      <td>3.156342</td>\n",
              "      <td>-1.057937</td>\n",
              "      <td>-1.016278</td>\n",
              "      <td>-1.559560</td>\n",
              "      <td>0</td>\n",
              "      <td>0</td>\n",
              "      <td>0</td>\n",
              "      <td>1</td>\n",
              "      <td>0</td>\n",
              "      <td>0</td>\n",
              "      <td>0</td>\n",
              "      <td>0</td>\n",
              "      <td>0</td>\n",
              "      <td>0</td>\n",
              "      <td>0</td>\n",
              "      <td>0</td>\n",
              "      <td>0</td>\n",
              "      <td>1</td>\n",
              "      <td>0</td>\n",
              "      <td>0</td>\n",
              "      <td>0</td>\n",
              "    </tr>\n",
              "    <tr>\n",
              "      <th>1</th>\n",
              "      <td>-0.125951</td>\n",
              "      <td>-0.112811</td>\n",
              "      <td>1.462341</td>\n",
              "      <td>-1.417398</td>\n",
              "      <td>-1.230343</td>\n",
              "      <td>-0.343064</td>\n",
              "      <td>0</td>\n",
              "      <td>0</td>\n",
              "      <td>1</td>\n",
              "      <td>0</td>\n",
              "      <td>0</td>\n",
              "      <td>0</td>\n",
              "      <td>0</td>\n",
              "      <td>0</td>\n",
              "      <td>0</td>\n",
              "      <td>0</td>\n",
              "      <td>0</td>\n",
              "      <td>0</td>\n",
              "      <td>1</td>\n",
              "      <td>1</td>\n",
              "      <td>0</td>\n",
              "      <td>1</td>\n",
              "      <td>0</td>\n",
              "    </tr>\n",
              "    <tr>\n",
              "      <th>2</th>\n",
              "      <td>1.132539</td>\n",
              "      <td>-0.688711</td>\n",
              "      <td>-1.006958</td>\n",
              "      <td>1.424479</td>\n",
              "      <td>0.743379</td>\n",
              "      <td>2.089929</td>\n",
              "      <td>0</td>\n",
              "      <td>0</td>\n",
              "      <td>0</td>\n",
              "      <td>0</td>\n",
              "      <td>0</td>\n",
              "      <td>0</td>\n",
              "      <td>0</td>\n",
              "      <td>0</td>\n",
              "      <td>1</td>\n",
              "      <td>0</td>\n",
              "      <td>1</td>\n",
              "      <td>0</td>\n",
              "      <td>0</td>\n",
              "      <td>1</td>\n",
              "      <td>0</td>\n",
              "      <td>0</td>\n",
              "      <td>0</td>\n",
              "    </tr>\n",
              "    <tr>\n",
              "      <th>3</th>\n",
              "      <td>-0.440574</td>\n",
              "      <td>2.262030</td>\n",
              "      <td>1.213618</td>\n",
              "      <td>-0.406637</td>\n",
              "      <td>-0.319092</td>\n",
              "      <td>-0.343064</td>\n",
              "      <td>0</td>\n",
              "      <td>0</td>\n",
              "      <td>0</td>\n",
              "      <td>0</td>\n",
              "      <td>1</td>\n",
              "      <td>0</td>\n",
              "      <td>0</td>\n",
              "      <td>0</td>\n",
              "      <td>0</td>\n",
              "      <td>0</td>\n",
              "      <td>1</td>\n",
              "      <td>0</td>\n",
              "      <td>0</td>\n",
              "      <td>1</td>\n",
              "      <td>0</td>\n",
              "      <td>0</td>\n",
              "      <td>0</td>\n",
              "    </tr>\n",
              "    <tr>\n",
              "      <th>4</th>\n",
              "      <td>0.188672</td>\n",
              "      <td>-0.829223</td>\n",
              "      <td>0.073080</td>\n",
              "      <td>-0.703815</td>\n",
              "      <td>-0.532176</td>\n",
              "      <td>-0.343064</td>\n",
              "      <td>0</td>\n",
              "      <td>0</td>\n",
              "      <td>0</td>\n",
              "      <td>0</td>\n",
              "      <td>0</td>\n",
              "      <td>0</td>\n",
              "      <td>0</td>\n",
              "      <td>0</td>\n",
              "      <td>1</td>\n",
              "      <td>0</td>\n",
              "      <td>0</td>\n",
              "      <td>0</td>\n",
              "      <td>1</td>\n",
              "      <td>1</td>\n",
              "      <td>0</td>\n",
              "      <td>0</td>\n",
              "      <td>0</td>\n",
              "    </tr>\n",
              "  </tbody>\n",
              "</table>\n",
              "</div>"
            ],
            "text/plain": [
              "       Year  Kilometers_Driven  ...  Owner_Type_Second  Owner_Type_Third\n",
              "0  0.188672          -0.493990  ...                  0                 0\n",
              "1 -0.125951          -0.112811  ...                  1                 0\n",
              "2  1.132539          -0.688711  ...                  0                 0\n",
              "3 -0.440574           2.262030  ...                  0                 0\n",
              "4  0.188672          -0.829223  ...                  0                 0\n",
              "\n",
              "[5 rows x 23 columns]"
            ]
          },
          "metadata": {
            "tags": []
          },
          "execution_count": 64
        },
        {
          "output_type": "execute_result",
          "data": {
            "text/plain": [
              "(1234, 23)"
            ]
          },
          "metadata": {
            "tags": []
          },
          "execution_count": 64
        }
      ]
    },
    {
      "cell_type": "code",
      "metadata": {
        "colab": {
          "base_uri": "https://localhost:8080/"
        },
        "id": "WoNqRRTViZ1n",
        "outputId": "ee334edb-ed9d-43a6-a707-b77b11a07fa0"
      },
      "source": [
        "y_pred = rfr.predict(test)"
      ],
      "execution_count": 65,
      "outputs": [
        {
          "output_type": "execute_result",
          "data": {
            "text/plain": [
              "array([ 3.30939075,  2.93626376, 17.69388074, ...,  2.84589087,\n",
              "        5.90423236, 16.35928638])"
            ]
          },
          "metadata": {
            "tags": []
          },
          "execution_count": 65
        }
      ]
    },
    {
      "cell_type": "code",
      "metadata": {
        "colab": {
          "base_uri": "https://localhost:8080/",
          "height": 419
        },
        "id": "MSuUUNNSiS1v",
        "outputId": "3a357878-05bb-4079-d0b1-b0fcb65b58bc"
      },
      "source": [
        "test_predict = pd.DataFrame(y_pred, index = test.index, columns = ['Result_Pred'])\n",
        "test_predict"
      ],
      "execution_count": 66,
      "outputs": [
        {
          "output_type": "execute_result",
          "data": {
            "text/html": [
              "<div>\n",
              "<style scoped>\n",
              "    .dataframe tbody tr th:only-of-type {\n",
              "        vertical-align: middle;\n",
              "    }\n",
              "\n",
              "    .dataframe tbody tr th {\n",
              "        vertical-align: top;\n",
              "    }\n",
              "\n",
              "    .dataframe thead th {\n",
              "        text-align: right;\n",
              "    }\n",
              "</style>\n",
              "<table border=\"1\" class=\"dataframe\">\n",
              "  <thead>\n",
              "    <tr style=\"text-align: right;\">\n",
              "      <th></th>\n",
              "      <th>Result_Pred</th>\n",
              "    </tr>\n",
              "  </thead>\n",
              "  <tbody>\n",
              "    <tr>\n",
              "      <th>0</th>\n",
              "      <td>3.309391</td>\n",
              "    </tr>\n",
              "    <tr>\n",
              "      <th>1</th>\n",
              "      <td>2.936264</td>\n",
              "    </tr>\n",
              "    <tr>\n",
              "      <th>2</th>\n",
              "      <td>17.693881</td>\n",
              "    </tr>\n",
              "    <tr>\n",
              "      <th>3</th>\n",
              "      <td>4.377169</td>\n",
              "    </tr>\n",
              "    <tr>\n",
              "      <th>4</th>\n",
              "      <td>4.394564</td>\n",
              "    </tr>\n",
              "    <tr>\n",
              "      <th>...</th>\n",
              "      <td>...</td>\n",
              "    </tr>\n",
              "    <tr>\n",
              "      <th>1229</th>\n",
              "      <td>4.654278</td>\n",
              "    </tr>\n",
              "    <tr>\n",
              "      <th>1230</th>\n",
              "      <td>8.062390</td>\n",
              "    </tr>\n",
              "    <tr>\n",
              "      <th>1231</th>\n",
              "      <td>2.845891</td>\n",
              "    </tr>\n",
              "    <tr>\n",
              "      <th>1232</th>\n",
              "      <td>5.904232</td>\n",
              "    </tr>\n",
              "    <tr>\n",
              "      <th>1233</th>\n",
              "      <td>16.359286</td>\n",
              "    </tr>\n",
              "  </tbody>\n",
              "</table>\n",
              "<p>1234 rows × 1 columns</p>\n",
              "</div>"
            ],
            "text/plain": [
              "      Result_Pred\n",
              "0        3.309391\n",
              "1        2.936264\n",
              "2       17.693881\n",
              "3        4.377169\n",
              "4        4.394564\n",
              "...           ...\n",
              "1229     4.654278\n",
              "1230     8.062390\n",
              "1231     2.845891\n",
              "1232     5.904232\n",
              "1233    16.359286\n",
              "\n",
              "[1234 rows x 1 columns]"
            ]
          },
          "metadata": {
            "tags": []
          },
          "execution_count": 66
        }
      ]
    }
  ]
}